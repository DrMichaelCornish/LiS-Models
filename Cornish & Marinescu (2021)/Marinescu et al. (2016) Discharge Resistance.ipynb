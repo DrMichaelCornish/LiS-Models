{
 "cells": [
  {
   "cell_type": "code",
   "execution_count": 1,
   "id": "16bed3fb",
   "metadata": {},
   "outputs": [],
   "source": [
    "import os\n",
    "os.chdir('../') # insures use of models folder as python module \n",
    "# Any figures saved or data pickled in the current working \n",
    "# directly will be saved up one folder from here.\n",
    "import pybamm\n",
    "import models\n",
    "import numpy as np\n",
    "import pickle\n",
    "import matplotlib.pyplot as plt\n",
    "plt.rcParams['figure.figsize'] = [12, 8]\n",
    "plt.rcParams['figure.dpi'] = 100\n",
    "plt.rcParams['lines.linewidth'] = 3\n",
    "plt.rcParams['legend.fontsize'] = 18\n",
    "plt.rcParams['axes.labelsize'] = 18\n",
    "plt.rcParams['xtick.labelsize'] = 14\n",
    "plt.rcParams['ytick.labelsize'] = 14\n",
    "plt.rcParams['font.size'] =  18.0"
   ]
  },
  {
   "cell_type": "code",
   "execution_count": null,
   "id": "3c34cd94",
   "metadata": {},
   "outputs": [],
   "source": [
    "# Instantiate the model\n",
    "model = models.Marinescu2016()\n",
    "\n",
    "\n",
    "# Obtain model parameter dictionary\n",
    "param = model.default_parameter_values\n",
    "\n",
    "# Update the parameters for charge\n",
    "param.update(\n",
    "    {\n",
    "        \"Current function [A]\": 1.7\n",
    "        }\n",
    ")\n",
    "\n",
    "# Instantiate simulation object \n",
    "sim = pybamm.Simulation(\n",
    "    model,\n",
    "    parameter_values = param,\n",
    "    solver=pybamm.CasadiSolver(\n",
    "        atol=1e-6,\n",
    "        rtol=1e-6,\n",
    "        dt_max = .01,\n",
    "        extra_options_setup={\"max_step_size\": 0.1}, \n",
    "        max_step_decrease_count = 15,\n",
    "    ),\n",
    ")\n",
    "\n",
    "# Define the time cut-off for charging in second\n",
    "time_in_seconds = int(3600/1.7)\n",
    "\n",
    "# Simulate the model \n",
    "sim.solve([0,time_in_seconds]);"
   ]
  }
 ],
 "metadata": {
  "kernelspec": {
   "display_name": "Python 3 (ipykernel)",
   "language": "python",
   "name": "python3"
  },
  "language_info": {
   "codemirror_mode": {
    "name": "ipython",
    "version": 3
   },
   "file_extension": ".py",
   "mimetype": "text/x-python",
   "name": "python",
   "nbconvert_exporter": "python",
   "pygments_lexer": "ipython3",
   "version": "3.9.6"
  }
 },
 "nbformat": 4,
 "nbformat_minor": 5
}
