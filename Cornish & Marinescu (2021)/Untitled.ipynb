{
 "cells": [
  {
   "cell_type": "code",
   "execution_count": 1,
   "id": "6d5426d9",
   "metadata": {},
   "outputs": [],
   "source": [
    "import os\n",
    "os.chdir('../') # insures use of models folder as python module \n",
    "# Any figures saved or data pickled in the current working \n",
    "# directly will be saved up one folder from here.\n",
    "#import pybamm\n",
    "#import models\n",
    "import numpy as np\n",
    "#import pickle\n",
    "import matplotlib.pyplot as plt\n",
    "plt.rcParams['figure.figsize'] = [12, 8]\n",
    "plt.rcParams['figure.dpi'] = 100\n",
    "plt.rcParams['lines.linewidth'] = 3\n",
    "plt.rcParams['legend.fontsize'] = 18\n",
    "plt.rcParams['axes.labelsize'] = 18\n",
    "plt.rcParams['xtick.labelsize'] = 14\n",
    "plt.rcParams['ytick.labelsize'] = 14\n",
    "plt.rcParams['font.size'] =  18.0"
   ]
  },
  {
   "cell_type": "code",
   "execution_count": 700,
   "id": "4aa1040d",
   "metadata": {},
   "outputs": [],
   "source": [
    "class model:\n",
    "    def __init__(self):\n",
    "        # parameters\n",
    "\n",
    "        # standard parameters\n",
    "        self.R = 8.3145\n",
    "        self.F = 9.649e4\n",
    "        self.T = 303.15\n",
    "\n",
    "        # parameters\n",
    "        self.Ms = 32\n",
    "        self.ns = 1\n",
    "        self.ns2 = 2\n",
    "        self.ns4 = 4\n",
    "        self.ns8 = 8\n",
    "        self.ne = 1\n",
    "        self.ih0 = 5\n",
    "        self.im0 = 5\n",
    "        self.il0 = 5\n",
    "        self.rho_s = 2000\n",
    "        self.EH0 = 2.43\n",
    "        self.EM0 = 2.41\n",
    "        self.EL0 = 1.9\n",
    "        self.v = 0.0114\n",
    "        self.ar = 0.960\n",
    "        self.k_p = 1\n",
    "        self.k_d = 5000\n",
    "        self.S_star = 1e-6\n",
    "        self.k_s_charge = 1e-4\n",
    "        self.k_s_discharge = 0\n",
    "        \n",
    "        \n",
    "        \n",
    "        # parameters derived from other parameters\n",
    "        self.nH = 1\n",
    "        self.nM = 1\n",
    "        self.nL = 1\n",
    "        self.iH_coef = self.nH * self.F / (2 * self.R * self.T)\n",
    "        self.iM_coef = self.nM * self.F / (2 * self.R * self.T)\n",
    "        self.iL_coef = self.nL * self.F / (2 * self.R * self.T)\n",
    "        self.E_H_coef = self.R * self.T / (self.nH * self.F)\n",
    "        self.E_M_coef = self.R * self.T / (self.nM * self.F)\n",
    "        self.E_L_coef = self.R * self.T / (self.nL * self.F)\n",
    "        self.f_h = ((self.ns4 ** 2) * self.Ms * self.v / self.ns8)**(1/4)\n",
    "        self.f_m = ((self.ns2 ** 2) * self.Ms * self.v / self.ns4)**(1/2)\n",
    "        self.f_l = ((self.ns ** 2) * self.Ms * self.v / self.ns2)**(1/2)\n",
    "\n",
    "        #######################################################\n",
    "        # Non-dynamic model functions\n",
    "        #######################################################\n",
    "        \n",
    "        # standard Initial conditions \n",
    "        self.t = 0\n",
    "        self.Sp = 0.43\n",
    "        self.S1 = 0.001\n",
    "        self.S2 = 0.011487966377185257\n",
    "        self.S4 = 8.425161409668764e-18\n",
    "        self.S8 = 2.467917664668259e-63\n",
    "        self.V = 2.0\n",
    "        self.I = -0.0211\n",
    "        \n",
    "        self.state = np.array([self.t, self.V, self.S8, self.S4, self.S2, self.S1, self.Sp])\n",
    "        self.perma_state = self.state \n",
    "        \n",
    "        self.t_data = [self.t]\n",
    "        self.Sp_data = [self.Sp]\n",
    "        self.S1_data = [self.S1]\n",
    "        self.S2_data = [self.S2]\n",
    "        self.S4_data = [self.S4]\n",
    "        self.S8_data = [self.S8]\n",
    "        self.V_data = [self.V]\n",
    "        \n",
    "    def E_H(self):\n",
    "        S8 = self.state[2]\n",
    "        S4 = self.state[3]\n",
    "        return self.EH0 + self.E_H_coef * (np.log(self.f_h) + 0.25*np.log(S8) - 0.5*np.log(S4) )\n",
    "    \n",
    "    def E_M(self):\n",
    "        S4 = self.state[3]\n",
    "        S2 = self.state[4]\n",
    "        return self.EM0 + self.E_M_coef * (np.log(self.f_m) + 0.5*np.log(S4) - np.log(S2) )\n",
    "    \n",
    "    def E_L(self):\n",
    "        S2 = self.state[4]\n",
    "        S1 = self.state[5]\n",
    "        # Low plateau potenital [V] as defined by equation (2b) in [1]\n",
    "        return self.EL0 + self.E_L_coef * (np.log(self.f_l) + 0.5*np.log(S2) - np.log(S1) ) \n",
    "\n",
    "        # High plateau over-potenital [V] as defined by equation (6a) in [1]\n",
    "    def eta_H(self):\n",
    "        V = self.state[1]\n",
    "        return  V - self.E_H()\n",
    "    \n",
    "    def eta_M(self):\n",
    "        V = self.state[1]\n",
    "        return  V - self.E_M()\n",
    "    \n",
    "    def eta_L(self):\n",
    "        V = self.state[1]\n",
    "        return  V - self.E_L()\n",
    "\n",
    "    def i_H(self):\n",
    "        \n",
    "        # High plateau current [A] as defined by equation (5a) in [1]\n",
    "        return -2 * self.ih0 * self.ar * np.sinh(self.iH_coef * self.eta_H())\n",
    "    \n",
    "    def i_M(self):\n",
    "        \n",
    "        return -2 * self.im0 * self.ar * np.sinh(self.iM_coef * self.eta_M())\n",
    "    \n",
    "    def i_L(self):\n",
    "        # Low plateau current [A] as defined by equation (5b) in [1]\n",
    "        return -2 * self.il0 * self.ar * np.sinh(self.iL_coef * self.eta_L())\n",
    "    \n",
    "    def k_s(self):\n",
    "        \n",
    "        if self.I < 0:\n",
    "            return self.k_s_charge\n",
    "        else:\n",
    "            return self.k_s_discharge\n",
    "    def k_pd(self):\n",
    "        if self.I < 0:\n",
    "            return self.k_d\n",
    "        else:\n",
    "            return self.k_p\n",
    "        \n",
    "    def dS8dt(self):\n",
    "        S8 = self.state[2]\n",
    "        return -(self.ns8 * self.Ms * self.i_H() / (self.nH * self.F)) - self.k_s() * S8\n",
    "\n",
    "    def dS4dt(self):\n",
    "        S8 = self.state[2]\n",
    "        return  (self.ns8 * self.Ms * self.i_H() / (self.nH * self.F)) + self.k_s() * S8 - (self.ns4 * self.Ms * self.i_M() / (self.nM * self.F))\n",
    "\n",
    "    def dS2dt(self):\n",
    "        return self.ns4 * self.Ms * self.i_M() / (self.nM * self.F) - (self.ns2 * self.Ms * self.i_L() / (self.nM * self.F) )\n",
    "\n",
    "    def dS1dt(self):\n",
    "        S1 = self.state[5]\n",
    "        Sp = self.state[6]\n",
    "        return (self.ns2 * self.Ms * self.i_L()  / (self.nM * self.F)) - self.k_pd() * Sp * (S1 - self.S_star) / (self.v * self.rho_s)\n",
    "    \n",
    "    def dSpdt(self):\n",
    "        S1 = self.state[5]\n",
    "        Sp = self.state[6]\n",
    "        return self.k_pd() * Sp * (S1 - self.S_star) / (self.v * self.rho_s)\n",
    "    \n",
    "    def dVdt(self):\n",
    "        S8 = self.state[2]\n",
    "        S4 = self.state[3]\n",
    "        S2 = self.state[4]\n",
    "        S1 = self.state[5]\n",
    "        numerator_H = self.ih0*np.cosh(self.iH_coef * self.eta_H())*( 0.25*(self.dS8dt()/S8) - 0.5*(self.dS4dt()/S4 ))\n",
    "        numerator_M = self.im0*np.cosh(self.iM_coef * self.eta_M())*( 0.5*(self.dS4dt()/S4) - (self.dS2dt()/S2 ))\n",
    "        numerator_L = self.il0*np.cosh(self.iL_coef * self.eta_L())*( 0.5*(self.dS2dt()/S2) - (self.dS1dt()/S1) )\n",
    "        \n",
    "        denominator_H = self.nH*self.ih0*np.cosh(self.iH_coef * self.eta_H())\n",
    "        denominator_M = self.nM*self.im0*np.cosh(self.iM_coef * self.eta_M())\n",
    "        denominator_L = self.nL*self.il0*np.cosh(self.iL_coef * self.eta_L())\n",
    "        \n",
    "        return (self.R*self.F/self.T)*( numerator_H + numerator_M + numerator_L )/(denominator_H + denominator_M + denominator_L)\n",
    "    \n",
    "    def algebraic_condition(self):\n",
    "        return self.I - self.i_H() - self.i_M() - self.i_L()\n",
    "    \n",
    "    def f(self):\n",
    "        \n",
    "        return np.array([self.algebraic_condition(), self.dS8dt(), self.dS4dt(), self.dS2dt(), self.dS1dt(), self.dSpdt()])\n",
    "    \n",
    "    def record_data(self):\n",
    "        self.t_data.append(self.state[0])\n",
    "        self.V_data.append(self.state[1])\n",
    "        self.S8_data.append(self.state[2])\n",
    "        self.S4_data.append(self.state[3])\n",
    "        self.S2_data.append(self.state[4])\n",
    "        self.S1_data.append(self.state[5])\n",
    "        self.Sp_data.append(self.state[6])\n",
    "        \n",
    "        \n",
    "        \n",
    "        \n",
    "        \n",
    "        "
   ]
  },
  {
   "cell_type": "code",
   "execution_count": 701,
   "id": "a03160aa",
   "metadata": {},
   "outputs": [],
   "source": [
    "model1 = model()"
   ]
  },
  {
   "cell_type": "code",
   "execution_count": 702,
   "id": "b8640a2e",
   "metadata": {},
   "outputs": [
    {
     "data": {
      "text/plain": [
       "1.297920104725847e-14"
      ]
     },
     "execution_count": 702,
     "metadata": {},
     "output_type": "execute_result"
    }
   ],
   "source": [
    "model1.algebraic_condition()"
   ]
  },
  {
   "cell_type": "code",
   "execution_count": 775,
   "id": "dad0c595",
   "metadata": {},
   "outputs": [],
   "source": [
    "class Backward_Euler(model):\n",
    "    def __init__(self,model):\n",
    "        model.__init__(self)\n",
    "    \n",
    "        # hyper parameters\n",
    "        self.dt = 0.001\n",
    "        self.T = 10*3600\n",
    "        self.V_lower = 1.9\n",
    "        self.V_upper = 2.6\n",
    "        \n",
    "        \n",
    "    def F_vec(self):\n",
    "        \n",
    "        # state should be the latest guess for the next state\n",
    "        state0 = self.perma_state\n",
    "        state1 = self.state\n",
    "        \n",
    "        f_state1 = self.f()\n",
    "        \n",
    "        eqs = [f_state1[0]]\n",
    "        \n",
    "        for i in range(1,len(f_state1)):\n",
    "             eqs.append(state1[i+1]-state0[i+1] - self.dt*f_state1[i])\n",
    "        \n",
    "        return np.array(eqs)\n",
    "    \n",
    "    def num_deriv_F(self):\n",
    "        \n",
    "        state0 = self.state\n",
    "        F0 = self.F_vec()\n",
    "        num_deriv_F_array = []\n",
    "        \n",
    "        for i in range(1,len(state0)):\n",
    "            self.state[i] +=  1e-1\n",
    "            \n",
    "            # this will add an array at each loop\n",
    "            num_deriv_F_array.append( ( np.array(self.F_vec()) - np.array(F0)) *10 ) \n",
    "            \n",
    "            self.state = state0\n",
    "            \n",
    "            # returns a matrix \n",
    "        return np.array(num_deriv_F_array)\n",
    "    \n",
    "    def gradient(self):\n",
    "        \n",
    "        # evaulate F at with latest state guess\n",
    "        F1 =  self.F_vec()\n",
    "        F1_deriv_matrix = self.num_deriv_F()\n",
    "        \n",
    "        gradient = []\n",
    "        for F1_deriv in F1_deriv_matrix:\n",
    "            gradient.append(2*np.dot(F1,F1_deriv))\n",
    "        \n",
    "        return np.array(gradient)\n",
    "    \n",
    "    def grad_desc_step(self):\n",
    "        \n",
    "        lamb = 1e-70\n",
    "        \n",
    "        state0 = self.state\n",
    "        \n",
    "        state1 = state0[1:] - lamb*self.gradient()\n",
    "        \n",
    "        self.state[1:] = state1\n",
    "   \n",
    "    def H(self):\n",
    "        \n",
    "        return np.dot(self.F_vec(), self.F_vec())\n",
    "        \n",
    "    def grad_desc(self):\n",
    "        \n",
    "        tol = 1e-6\n",
    "        \n",
    "        while self.H() > tol:\n",
    "            \n",
    "            self.grad_desc_step()\n",
    "            \n",
    "    def BE_step(self):\n",
    "        \n",
    "        self.grad_desc()\n",
    "        self.perma_state = self.state\n",
    "        self.perma_state[0] += self.dt\n",
    "        \n",
    "        # provide new guess \n",
    "        self.state[1:] *= (1 + 1e-12)\n",
    "        \n",
    "    def BE_method(self):\n",
    "        \n",
    "        while self.t < self.T:\n",
    "            self.BE_step()"
   ]
  },
  {
   "cell_type": "code",
   "execution_count": 819,
   "id": "a5d35ffb",
   "metadata": {},
   "outputs": [
    {
     "name": "stdout",
     "output_type": "stream",
     "text": [
      "[ 5.51302608e+02 -4.87557790e-04  2.43778895e-04  1.21889150e-04\n",
      "  1.21891429e-04  0.00000000e+00]\n",
      "[-1.01671658e+19  2.69747584e+13 -2.69747584e+13  1.21889150e-04\n",
      "  1.21891429e-04  0.00000000e+00]\n",
      "[-5.47852911e+17  1.45328639e+12 -1.45316854e+12 -1.17845456e+08\n",
      "  1.21891429e-04  0.00000000e+00]\n",
      "[-5.47852911e+17  1.45328639e+12 -1.45316854e+12 -1.17845456e+08\n",
      " -1.66696084e-05  0.00000000e+00]\n",
      "[-5.47852911e+17  1.45328639e+12 -1.45316854e+12 -1.17845456e+08\n",
      "  9.74653301e-02 -9.42982536e-02]\n",
      "[-5.47852911e+17  1.45328639e+12 -1.45316854e+12 -1.17845456e+08\n",
      "  9.76844202e-02 -9.45173437e-02]\n",
      "[1.1489809284233808e-08, -131961.68845845084, -7109.043807841485, -7109.043807854564, -7109.043789786638, -7109.043789745356]\n",
      "[ 4.87256330e+05 -9.91838556e-01  8.43457248e-01  1.47347412e-01\n",
      "  0.00000000e+00  0.00000000e+00]\n",
      "[ 4.87256330e+05 -9.91838556e-01  8.43457248e-01  1.47347412e-01\n",
      "  0.00000000e+00  0.00000000e+00]\n",
      "[ 4.87751095e+05 -9.93684302e-01  8.45573611e-01  1.47083734e-01\n",
      "  0.00000000e+00  0.00000000e+00]\n",
      "[ 4.88143996e+05 -9.93684302e-01  8.45046255e-01  1.47610223e-01\n",
      "  0.00000000e+00  0.00000000e+00]\n",
      "[ 4.88151272e+05 -9.93684302e-01  8.45046255e-01  1.47605886e-01\n",
      "  1.65378822e+00 -1.65378822e+00]\n",
      "[ 4.88151272e+05 -9.93684302e-01  8.45046255e-01  1.47605886e-01\n",
      "  3.21342952e+00 -3.21165317e+00]\n",
      "[-12323778263.374119, -12323778263.374119, -12336291955.31528, -12346229298.915451, -12346413284.916197, -12346413248.269741]\n"
     ]
    },
    {
     "name": "stderr",
     "output_type": "stream",
     "text": [
      "/var/folders/0m/hp806rv14qz74rjlmvs9nzbm0000gp/T/ipykernel_61150/3267609732.py:105: RuntimeWarning: overflow encountered in sinh\n",
      "  return -2 * self.ih0 * self.ar * np.sinh(self.iH_coef * self.eta_H())\n",
      "/var/folders/0m/hp806rv14qz74rjlmvs9nzbm0000gp/T/ipykernel_61150/3267609732.py:109: RuntimeWarning: overflow encountered in sinh\n",
      "  return -2 * self.im0 * self.ar * np.sinh(self.iM_coef * self.eta_M())\n",
      "/var/folders/0m/hp806rv14qz74rjlmvs9nzbm0000gp/T/ipykernel_61150/3267609732.py:113: RuntimeWarning: overflow encountered in sinh\n",
      "  return -2 * self.il0 * self.ar * np.sinh(self.iL_coef * self.eta_L())\n",
      "/var/folders/0m/hp806rv14qz74rjlmvs9nzbm0000gp/T/ipykernel_61150/3267609732.py:133: RuntimeWarning: invalid value encountered in double_scalars\n",
      "  return  (self.ns8 * self.Ms * self.i_H() / (self.nH * self.F)) + self.k_s() * S8 - (self.ns4 * self.Ms * self.i_M() / (self.nM * self.F))\n",
      "/var/folders/0m/hp806rv14qz74rjlmvs9nzbm0000gp/T/ipykernel_61150/3267609732.py:136: RuntimeWarning: invalid value encountered in double_scalars\n",
      "  return self.ns4 * self.Ms * self.i_M() / (self.nM * self.F) - (self.ns2 * self.Ms * self.i_L() / (self.nM * self.F) )\n"
     ]
    }
   ],
   "source": [
    "self = Backward_Euler(model)\n",
    "self.state = self.perma_state\n",
    "\n",
    "while self.H() > 1e-8:\n",
    "    F_vec0 = self.F_vec()\n",
    "    grad = []\n",
    "    for index in range(1,len(self.state)):\n",
    "\n",
    "        # change one state variable by a small amount\n",
    "        self.state[index] += 1e-12\n",
    "        # reevaluate the numerical method equations\n",
    "        F_vec1 = self.F_vec()\n",
    "        # calculuate numerical derivative to numerical ODE equations\n",
    "        num_deriv = np.array((F_vec1 - F_vec0)/ (1e-12))\n",
    "        print(num_deriv)\n",
    "        # reset state\n",
    "        self.state = self.perma_state\n",
    "        #store gradient\n",
    "        grad.append(np.dot(num_deriv,F_vec0))\n",
    "    \n",
    "    self.state[1:] = self.state[1:] - (1e-3)*np.array(grad)\n",
    "    print(grad)"
   ]
  },
  {
   "cell_type": "code",
   "execution_count": 814,
   "id": "e73e1f8b",
   "metadata": {},
   "outputs": [
    {
     "data": {
      "text/plain": [
       "array([ 0.00000000e+00,  2.00000000e+00, -1.03528268e+52, -3.03257383e+06,\n",
       "        1.14879642e-02,  9.99952745e-04,  4.30000000e-01])"
      ]
     },
     "execution_count": 814,
     "metadata": {},
     "output_type": "execute_result"
    }
   ],
   "source": [
    "self.state"
   ]
  },
  {
   "cell_type": "code",
   "execution_count": 812,
   "id": "ef3149e4",
   "metadata": {},
   "outputs": [
    {
     "data": {
      "text/plain": [
       "1.7751404603640628e-08"
      ]
     },
     "execution_count": 812,
     "metadata": {},
     "output_type": "execute_result"
    }
   ],
   "source": [
    "self.H()"
   ]
  },
  {
   "cell_type": "code",
   "execution_count": 805,
   "id": "4edbf2b9",
   "metadata": {},
   "outputs": [
    {
     "data": {
      "text/plain": [
       "array([ 1.23701049e-12, -1.08249953e-18,  5.41249767e-19, -1.39952327e-08,\n",
       "        9.42179426e-05, -9.42039474e-05])"
      ]
     },
     "execution_count": 805,
     "metadata": {},
     "output_type": "execute_result"
    }
   ],
   "source": [
    "F_vec1 = self.F_vec()\n",
    "F_vec1"
   ]
  },
  {
   "cell_type": "code",
   "execution_count": 806,
   "id": "b8dee9f0",
   "metadata": {},
   "outputs": [
    {
     "data": {
      "text/plain": [
       "array([ 6.12015646e+02, -5.41249767e-04,  2.70624883e-04,  1.35311859e-04,\n",
       "        1.35525272e-04,  0.00000000e+00])"
      ]
     },
     "execution_count": 806,
     "metadata": {},
     "output_type": "execute_result"
    }
   ],
   "source": [
    "(F_vec1 - F_vec0)/ (self.state[1]*1e-15)"
   ]
  },
  {
   "cell_type": "code",
   "execution_count": 795,
   "id": "2a511319",
   "metadata": {},
   "outputs": [
    {
     "data": {
      "text/plain": [
       "array([[ 9.55697872e+02, -8.44734720e-04,  4.22367360e-04,\n",
       "         2.10838318e-04,  2.11529042e-04,  0.00000000e+00],\n",
       "       [-3.55572026e+08,  9.43378606e+02, -9.43379029e+02,\n",
       "         2.10838318e-04,  2.11529042e-04,  0.00000000e+00],\n",
       "       [-1.07635337e+05,  9.03816361e-02,  7.63563788e-03,\n",
       "        -9.82288031e-02,  2.11529042e-04,  0.00000000e+00],\n",
       "       [-5.76120990e+04,  9.03816361e-02, -5.89180221e-02,\n",
       "        -3.15777847e-02,  1.14170696e-04,  0.00000000e+00],\n",
       "       [-5.59283818e+04,  9.03816361e-02, -5.89180221e-02,\n",
       "        -3.26945626e-02,  9.55291942e-02, -9.42982456e-02],\n",
       "       [-5.59283818e+04,  9.03816361e-02, -5.89180221e-02,\n",
       "        -3.26945626e-02,  1.17678098e-01, -1.16447149e-01]])"
      ]
     },
     "execution_count": 795,
     "metadata": {},
     "output_type": "execute_result"
    }
   ],
   "source": [
    "self.num_deriv_F()"
   ]
  },
  {
   "cell_type": "code",
   "execution_count": 780,
   "id": "c7d9af97",
   "metadata": {},
   "outputs": [
    {
     "data": {
      "text/plain": [
       "array([-6.71150135e+08, -6.66063440e+08, -6.68410502e+08, -6.60323046e+08,\n",
       "       -7.09622399e+08, -7.09622399e+08])"
      ]
     },
     "execution_count": 780,
     "metadata": {},
     "output_type": "execute_result"
    }
   ],
   "source": [
    "self.gradient()"
   ]
  },
  {
   "cell_type": "code",
   "execution_count": 781,
   "id": "6a8dea45",
   "metadata": {},
   "outputs": [],
   "source": [
    "self.grad_desc_step()"
   ]
  },
  {
   "cell_type": "code",
   "execution_count": 782,
   "id": "7d0492dc",
   "metadata": {},
   "outputs": [
    {
     "data": {
      "text/plain": [
       "array([0.        , 2.3       , 0.3       , 0.3       , 0.31148797,\n",
       "       0.301     , 0.73      ])"
      ]
     },
     "execution_count": 782,
     "metadata": {},
     "output_type": "execute_result"
    }
   ],
   "source": [
    "self.state"
   ]
  },
  {
   "cell_type": "code",
   "execution_count": 765,
   "id": "2f6e5201",
   "metadata": {},
   "outputs": [
    {
     "data": {
      "text/plain": [
       "array([        0.        , -14125205.17961981, -14119875.03653646,\n",
       "       -14123064.42658241, -12713447.05062995, -15845366.43464592,\n",
       "       -15845366.00639238])"
      ]
     },
     "execution_count": 765,
     "metadata": {},
     "output_type": "execute_result"
    }
   ],
   "source": [
    "self.state"
   ]
  },
  {
   "cell_type": "code",
   "execution_count": 766,
   "id": "ed73d4ff",
   "metadata": {},
   "outputs": [
    {
     "name": "stderr",
     "output_type": "stream",
     "text": [
      "/var/folders/0m/hp806rv14qz74rjlmvs9nzbm0000gp/T/ipykernel_61150/3267609732.py:76: RuntimeWarning: invalid value encountered in log\n",
      "  return self.EH0 + self.E_H_coef * (np.log(self.f_h) + 0.25*np.log(S8) - 0.5*np.log(S4) )\n",
      "/var/folders/0m/hp806rv14qz74rjlmvs9nzbm0000gp/T/ipykernel_61150/3267609732.py:81: RuntimeWarning: invalid value encountered in log\n",
      "  return self.EM0 + self.E_M_coef * (np.log(self.f_m) + 0.5*np.log(S4) - np.log(S2) )\n",
      "/var/folders/0m/hp806rv14qz74rjlmvs9nzbm0000gp/T/ipykernel_61150/3267609732.py:87: RuntimeWarning: invalid value encountered in log\n",
      "  return self.EL0 + self.E_L_coef * (np.log(self.f_l) + 0.5*np.log(S2) - np.log(S1) )\n"
     ]
    },
    {
     "data": {
      "text/plain": [
       "array([1.00000000e+00,            nan,            nan,            nan,\n",
       "                  nan,            nan, 5.50604453e+16])"
      ]
     },
     "execution_count": 766,
     "metadata": {},
     "output_type": "execute_result"
    }
   ],
   "source": [
    "k1 = np.insert(self.f(),0,[1])\n",
    "k1"
   ]
  },
  {
   "cell_type": "code",
   "execution_count": 394,
   "id": "375d7958",
   "metadata": {},
   "outputs": [],
   "source": [
    "self.state = self.state + k1*self.dt/2"
   ]
  },
  {
   "cell_type": "code",
   "execution_count": 395,
   "id": "87b38ce8",
   "metadata": {},
   "outputs": [
    {
     "data": {
      "text/plain": [
       "array([5.00000000e-08, 2.00000000e+00, 2.46791766e-63, 8.42516141e-18,\n",
       "       1.14879664e-02, 1.00000000e-03, 4.30000000e-01])"
      ]
     },
     "execution_count": 395,
     "metadata": {},
     "output_type": "execute_result"
    }
   ],
   "source": [
    "self.state"
   ]
  },
  {
   "cell_type": "code",
   "execution_count": 396,
   "id": "dbc0ec0e",
   "metadata": {},
   "outputs": [
    {
     "data": {
      "text/plain": [
       "array([ 7.43234421e+53,  9.87693359e-10, -4.94234539e-10, -1.39962198e-05,\n",
       "       -4.84506315e-06,  1.88407895e-05])"
      ]
     },
     "execution_count": 396,
     "metadata": {},
     "output_type": "execute_result"
    }
   ],
   "source": [
    "self.f()"
   ]
  },
  {
   "cell_type": "code",
   "execution_count": 316,
   "id": "1b39f620",
   "metadata": {},
   "outputs": [
    {
     "data": {
      "text/plain": [
       "-0.021101115518319908"
      ]
     },
     "execution_count": 316,
     "metadata": {},
     "output_type": "execute_result"
    }
   ],
   "source": [
    "RK2_model.i_H() + RK2_model.i_M() + RK2_model.i_L()"
   ]
  },
  {
   "cell_type": "code",
   "execution_count": 317,
   "id": "9f890a03",
   "metadata": {},
   "outputs": [
    {
     "data": {
      "text/plain": [
       "-3.719831368034817e-07"
      ]
     },
     "execution_count": 317,
     "metadata": {},
     "output_type": "execute_result"
    }
   ],
   "source": [
    "RK2_model.i_M()"
   ]
  },
  {
   "cell_type": "code",
   "execution_count": null,
   "id": "51077264",
   "metadata": {},
   "outputs": [],
   "source": []
  },
  {
   "cell_type": "code",
   "execution_count": null,
   "id": "ffda9e27",
   "metadata": {},
   "outputs": [],
   "source": []
  },
  {
   "cell_type": "code",
   "execution_count": 318,
   "id": "8e9ea427",
   "metadata": {},
   "outputs": [
    {
     "data": {
      "text/plain": [
       "array([ 1.00000000e+00,  7.43234421e+53,  9.87693359e-10, -4.94234539e-10,\n",
       "       -1.39962198e-05, -4.84506315e-06,  1.88407895e-05])"
      ]
     },
     "execution_count": 318,
     "metadata": {},
     "output_type": "execute_result"
    }
   ],
   "source": [
    "k2 = np.insert(RK2_model.f(), 0, [1])\n",
    "k2"
   ]
  },
  {
   "cell_type": "code",
   "execution_count": 319,
   "id": "7f164797",
   "metadata": {},
   "outputs": [
    {
     "data": {
      "text/plain": [
       "7.432344206519731e+53"
      ]
     },
     "execution_count": 319,
     "metadata": {},
     "output_type": "execute_result"
    }
   ],
   "source": [
    "RK2_model.dVdt()"
   ]
  },
  {
   "cell_type": "code",
   "execution_count": 320,
   "id": "20e8966c",
   "metadata": {},
   "outputs": [
    {
     "data": {
      "text/plain": [
       "array([ 1.50000000e-07,  7.43234421e+46,  9.87693359e-17, -4.09982925e-17,\n",
       "        1.14879664e-02,  9.99999999e-04,  4.30000000e-01])"
      ]
     },
     "execution_count": 320,
     "metadata": {},
     "output_type": "execute_result"
    }
   ],
   "source": [
    "RK2_model.state + k2*RK2_model.dt"
   ]
  },
  {
   "cell_type": "code",
   "execution_count": 321,
   "id": "24a24cfe",
   "metadata": {},
   "outputs": [
    {
     "data": {
      "text/plain": [
       "array([ 5.00000000e-08,  2.02597761e-09,  0.00000000e+00,  0.00000000e+00,\n",
       "       -6.99761429e-13, -2.42277769e-13,  9.42024236e-13])"
      ]
     },
     "execution_count": 321,
     "metadata": {},
     "output_type": "execute_result"
    }
   ],
   "source": [
    "RK2_model.state - state0"
   ]
  },
  {
   "cell_type": "code",
   "execution_count": 322,
   "id": "7f6ab0a9",
   "metadata": {},
   "outputs": [
    {
     "name": "stderr",
     "output_type": "stream",
     "text": [
      "/var/folders/0m/hp806rv14qz74rjlmvs9nzbm0000gp/T/ipykernel_61150/1264420304.py:75: RuntimeWarning: invalid value encountered in log\n",
      "  return self.EH0 + self.E_H_coef * (np.log(self.f_h) + 0.25*np.log(S8) - 0.5*np.log(S4) )\n",
      "/var/folders/0m/hp806rv14qz74rjlmvs9nzbm0000gp/T/ipykernel_61150/1264420304.py:80: RuntimeWarning: invalid value encountered in log\n",
      "  return self.EM0 + self.E_M_coef * (np.log(self.f_m) + 0.5*np.log(S4) - np.log(S2) )\n",
      "/var/folders/0m/hp806rv14qz74rjlmvs9nzbm0000gp/T/ipykernel_61150/1264420304.py:154: RuntimeWarning: overflow encountered in cosh\n",
      "  numerator_L = self.il0*np.cosh(self.iL_coef * self.eta_L())*( 0.5*(self.dS2dt()/S2) - (self.dS1dt()/S1) )\n",
      "/var/folders/0m/hp806rv14qz74rjlmvs9nzbm0000gp/T/ipykernel_61150/1264420304.py:158: RuntimeWarning: overflow encountered in cosh\n",
      "  denominator_L = self.nL*self.il0*np.cosh(self.iL_coef * self.eta_L())\n"
     ]
    }
   ],
   "source": [
    "RK2_model.RK_step()"
   ]
  },
  {
   "cell_type": "code",
   "execution_count": 323,
   "id": "a959fd6b",
   "metadata": {},
   "outputs": [
    {
     "data": {
      "text/plain": [
       "array([2.0e-07,     nan,     nan,     nan,     nan,     nan, 4.3e-01])"
      ]
     },
     "execution_count": 323,
     "metadata": {},
     "output_type": "execute_result"
    }
   ],
   "source": [
    "RK2_model.state"
   ]
  },
  {
   "cell_type": "code",
   "execution_count": 324,
   "id": "d5c3a327",
   "metadata": {},
   "outputs": [
    {
     "data": {
      "text/plain": [
       "nan"
      ]
     },
     "execution_count": 324,
     "metadata": {},
     "output_type": "execute_result"
    }
   ],
   "source": [
    "RK2_model.E_H()"
   ]
  },
  {
   "cell_type": "code",
   "execution_count": 325,
   "id": "1ad9874f",
   "metadata": {},
   "outputs": [
    {
     "data": {
      "text/plain": [
       "array([-6.28116235e+01, -2.46791766e-67,  2.46791766e-67,  1.39952327e-05,\n",
       "       -9.42179426e-02,  9.42039474e-02])"
      ]
     },
     "execution_count": 325,
     "metadata": {},
     "output_type": "execute_result"
    }
   ],
   "source": [
    "f_values"
   ]
  },
  {
   "cell_type": "code",
   "execution_count": 326,
   "id": "c54f87b3",
   "metadata": {},
   "outputs": [
    {
     "ename": "NameError",
     "evalue": "name 'self' is not defined",
     "output_type": "error",
     "traceback": [
      "\u001b[0;31m---------------------------------------------------------------------------\u001b[0m",
      "\u001b[0;31mNameError\u001b[0m                                 Traceback (most recent call last)",
      "\u001b[0;32m/var/folders/0m/hp806rv14qz74rjlmvs9nzbm0000gp/T/ipykernel_61150/476174150.py\u001b[0m in \u001b[0;36m<module>\u001b[0;34m\u001b[0m\n\u001b[0;32m----> 1\u001b[0;31m \u001b[0mS8\u001b[0m \u001b[0;34m=\u001b[0m \u001b[0mself\u001b[0m\u001b[0;34m.\u001b[0m\u001b[0mstate\u001b[0m\u001b[0;34m[\u001b[0m\u001b[0;36m2\u001b[0m\u001b[0;34m]\u001b[0m\u001b[0;34m\u001b[0m\u001b[0;34m\u001b[0m\u001b[0m\n\u001b[0m\u001b[1;32m      2\u001b[0m \u001b[0mS4\u001b[0m \u001b[0;34m=\u001b[0m \u001b[0mself\u001b[0m\u001b[0;34m.\u001b[0m\u001b[0mstate\u001b[0m\u001b[0;34m[\u001b[0m\u001b[0;36m3\u001b[0m\u001b[0;34m]\u001b[0m\u001b[0;34m\u001b[0m\u001b[0;34m\u001b[0m\u001b[0m\n\u001b[1;32m      3\u001b[0m \u001b[0mS2\u001b[0m \u001b[0;34m=\u001b[0m \u001b[0mself\u001b[0m\u001b[0;34m.\u001b[0m\u001b[0mstate\u001b[0m\u001b[0;34m[\u001b[0m\u001b[0;36m4\u001b[0m\u001b[0;34m]\u001b[0m\u001b[0;34m\u001b[0m\u001b[0;34m\u001b[0m\u001b[0m\n\u001b[1;32m      4\u001b[0m \u001b[0mS1\u001b[0m \u001b[0;34m=\u001b[0m \u001b[0mself\u001b[0m\u001b[0;34m.\u001b[0m\u001b[0mstate\u001b[0m\u001b[0;34m[\u001b[0m\u001b[0;36m5\u001b[0m\u001b[0;34m]\u001b[0m\u001b[0;34m\u001b[0m\u001b[0;34m\u001b[0m\u001b[0m\n\u001b[1;32m      5\u001b[0m \u001b[0mnumerator_H\u001b[0m \u001b[0;34m=\u001b[0m \u001b[0;34m-\u001b[0m\u001b[0mself\u001b[0m\u001b[0;34m.\u001b[0m\u001b[0mih0\u001b[0m\u001b[0;34m*\u001b[0m\u001b[0mnp\u001b[0m\u001b[0;34m.\u001b[0m\u001b[0mcosh\u001b[0m\u001b[0;34m(\u001b[0m\u001b[0mself\u001b[0m\u001b[0;34m.\u001b[0m\u001b[0miH_coef\u001b[0m \u001b[0;34m*\u001b[0m \u001b[0mself\u001b[0m\u001b[0;34m.\u001b[0m\u001b[0meta_H\u001b[0m\u001b[0;34m(\u001b[0m\u001b[0;34m)\u001b[0m\u001b[0;34m)\u001b[0m\u001b[0;34m*\u001b[0m\u001b[0;34m(\u001b[0m \u001b[0;34m(\u001b[0m\u001b[0mself\u001b[0m\u001b[0;34m.\u001b[0m\u001b[0mdS8dt\u001b[0m\u001b[0;34m(\u001b[0m\u001b[0;34m)\u001b[0m\u001b[0;34m/\u001b[0m\u001b[0mS8\u001b[0m\u001b[0;34m)\u001b[0m \u001b[0;34m-\u001b[0m \u001b[0;36m2\u001b[0m\u001b[0;34m*\u001b[0m\u001b[0;34m(\u001b[0m\u001b[0mself\u001b[0m\u001b[0;34m.\u001b[0m\u001b[0mdS4dt\u001b[0m\u001b[0;34m(\u001b[0m\u001b[0;34m)\u001b[0m\u001b[0;34m/\u001b[0m\u001b[0mS4\u001b[0m \u001b[0;34m)\u001b[0m\u001b[0;34m)\u001b[0m\u001b[0;34m\u001b[0m\u001b[0;34m\u001b[0m\u001b[0m\n",
      "\u001b[0;31mNameError\u001b[0m: name 'self' is not defined"
     ]
    }
   ],
   "source": [
    "S8 = self.state[2]\n",
    "S4 = self.state[3]\n",
    "S2 = self.state[4]\n",
    "S1 = self.state[5]\n",
    "numerator_H = -self.ih0*np.cosh(self.iH_coef * self.eta_H())*( (self.dS8dt()/S8) - 2*(self.dS4dt()/S4 ))\n",
    "numerator_M = -self.im0*np.cosh(self.iM_coef * self.eta_M())*( (self.dS4dt()/S4) - 2*(self.dS2dt()/S2 ))\n",
    "numerator_L = -self.il0*np.cosh(self.iL_coef * self.eta_L())*( (self.dS2dt()/S2) - 2*(self.dS1dt()/S1) )\n",
    "\n",
    "denominator_H = self.nH*self.ih0*np.cosh(self.iH_coef * self.eta_H())\n",
    "denominator_M = self.nM*self.im0*np.cosh(self.iM_coef * self.eta_M())\n",
    "denominator_L = self.nL*self.il0*np.cosh(self.iL_coef * self.eta_L())\n",
    "\n"
   ]
  },
  {
   "cell_type": "code",
   "execution_count": null,
   "id": "ec1bc366",
   "metadata": {},
   "outputs": [],
   "source": []
  },
  {
   "cell_type": "code",
   "execution_count": null,
   "id": "c14cc575",
   "metadata": {},
   "outputs": [],
   "source": []
  },
  {
   "cell_type": "code",
   "execution_count": null,
   "id": "8b3ef159",
   "metadata": {},
   "outputs": [],
   "source": []
  },
  {
   "cell_type": "code",
   "execution_count": null,
   "id": "c23e568c",
   "metadata": {},
   "outputs": [],
   "source": []
  }
 ],
 "metadata": {
  "kernelspec": {
   "display_name": "Python 3 (ipykernel)",
   "language": "python",
   "name": "python3"
  },
  "language_info": {
   "codemirror_mode": {
    "name": "ipython",
    "version": 3
   },
   "file_extension": ".py",
   "mimetype": "text/x-python",
   "name": "python",
   "nbconvert_exporter": "python",
   "pygments_lexer": "ipython3",
   "version": "3.9.6"
  }
 },
 "nbformat": 4,
 "nbformat_minor": 5
}
