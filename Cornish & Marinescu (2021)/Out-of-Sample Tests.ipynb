{
 "cells": [
  {
   "cell_type": "markdown",
   "id": "5d669953",
   "metadata": {},
   "source": [
    "# 1 Cycle Cell "
   ]
  },
  {
   "cell_type": "markdown",
   "id": "0e145fe7",
   "metadata": {},
   "source": [
    "This will help the cell obtain a more realistic initial condition and tests if the cell can predict capacity fade across cycles. "
   ]
  },
  {
   "cell_type": "markdown",
   "id": "08863825",
   "metadata": {},
   "source": [
    "## 1.1 Temperature = $20^\\circ C$"
   ]
  },
  {
   "cell_type": "code",
   "execution_count": null,
   "id": "3c699ba3",
   "metadata": {},
   "outputs": [],
   "source": []
  },
  {
   "cell_type": "markdown",
   "id": "fbe7b62f",
   "metadata": {},
   "source": [
    "## 1.2 Temperature = $30^\\circ C$"
   ]
  },
  {
   "cell_type": "code",
   "execution_count": null,
   "id": "708400a2",
   "metadata": {},
   "outputs": [],
   "source": []
  },
  {
   "cell_type": "markdown",
   "id": "cfaf90f6",
   "metadata": {},
   "source": [
    "## 1.3 Temperature = $40^\\circ C$"
   ]
  },
  {
   "cell_type": "code",
   "execution_count": null,
   "id": "f1b625f1",
   "metadata": {},
   "outputs": [],
   "source": []
  },
  {
   "cell_type": "markdown",
   "id": "fd6635cc",
   "metadata": {},
   "source": [
    "# 2 Discharge Resistance"
   ]
  },
  {
   "cell_type": "code",
   "execution_count": null,
   "id": "9924e3fd",
   "metadata": {},
   "outputs": [],
   "source": []
  },
  {
   "cell_type": "markdown",
   "id": "f8b833f8",
   "metadata": {},
   "source": [
    "# 3 Charging Infinite Capacity/Voltage"
   ]
  },
  {
   "cell_type": "code",
   "execution_count": null,
   "id": "ed2b64fc",
   "metadata": {},
   "outputs": [],
   "source": []
  },
  {
   "cell_type": "markdown",
   "id": "560e2a6d",
   "metadata": {},
   "source": [
    "# 4 Discharging Rate-Dependent Capacity \\& Voltage"
   ]
  },
  {
   "cell_type": "code",
   "execution_count": null,
   "id": "3fca91e9",
   "metadata": {},
   "outputs": [],
   "source": []
  },
  {
   "cell_type": "markdown",
   "id": "8028b356",
   "metadata": {},
   "source": [
    "# 5 Depth-of-Discharge Depedent Charge Voltage Kink"
   ]
  },
  {
   "cell_type": "code",
   "execution_count": null,
   "id": "bdbcbde0",
   "metadata": {},
   "outputs": [],
   "source": []
  }
 ],
 "metadata": {
  "kernelspec": {
   "display_name": "Python 3 (ipykernel)",
   "language": "python",
   "name": "python3"
  },
  "language_info": {
   "codemirror_mode": {
    "name": "ipython",
    "version": 3
   },
   "file_extension": ".py",
   "mimetype": "text/x-python",
   "name": "python",
   "nbconvert_exporter": "python",
   "pygments_lexer": "ipython3",
   "version": "3.9.6"
  }
 },
 "nbformat": 4,
 "nbformat_minor": 5
}
