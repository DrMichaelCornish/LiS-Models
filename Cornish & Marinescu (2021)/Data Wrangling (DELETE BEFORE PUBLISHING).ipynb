{
 "cells": [
  {
   "cell_type": "code",
   "execution_count": 1,
   "id": "a7fcf830",
   "metadata": {},
   "outputs": [],
   "source": [
    "import os\n",
    "os.chdir('../') # insures use of models folder as python module \n",
    "# Any figures saved or data pickled in the current working \n",
    "# directly will be saved up one folder from here.\n",
    "import pybamm\n",
    "import models\n",
    "import numpy as np\n",
    "import matplotlib.pyplot as plt"
   ]
  },
  {
   "cell_type": "code",
   "execution_count": 2,
   "id": "b35b3452",
   "metadata": {},
   "outputs": [],
   "source": [
    "plt.rcParams['figure.figsize'] = [12, 8]\n",
    "plt.rcParams['figure.dpi'] = 100\n",
    "plt.rcParams['lines.linewidth'] = 3\n",
    "plt.rcParams['legend.fontsize'] = 18\n",
    "plt.rcParams['axes.labelsize'] = 18\n",
    "plt.rcParams['xtick.labelsize'] = 14\n",
    "plt.rcParams['ytick.labelsize'] = 14\n",
    "plt.rcParams['font.size'] =  18.0"
   ]
  },
  {
   "cell_type": "code",
   "execution_count": 3,
   "id": "6ad2f138",
   "metadata": {},
   "outputs": [
    {
     "data": {
      "text/plain": [
       "'/Users/Work/Private-LiS'"
      ]
     },
     "execution_count": 3,
     "metadata": {},
     "output_type": "execute_result"
    }
   ],
   "source": [
    "os.getcwd()"
   ]
  },
  {
   "cell_type": "code",
   "execution_count": 4,
   "id": "fb3bd7c7",
   "metadata": {},
   "outputs": [
    {
     "data": {
      "text/plain": [
       "'/Users'"
      ]
     },
     "execution_count": 4,
     "metadata": {},
     "output_type": "execute_result"
    }
   ],
   "source": [
    "os.chdir('../')\n",
    "os.chdir('../')\n",
    "os.getcwd()"
   ]
  },
  {
   "cell_type": "code",
   "execution_count": 5,
   "id": "3cf2a2d4",
   "metadata": {},
   "outputs": [],
   "source": [
    "os.chdir('/Users/work/Dropbox/Career/2020 - 2023 Post Doc/LiSTAR/Data/Inhomogeneity/Inhomogeneity/LiS_SingleLayers')"
   ]
  },
  {
   "cell_type": "code",
   "execution_count": 6,
   "id": "4762fac5",
   "metadata": {},
   "outputs": [],
   "source": [
    "cwd_file_list = os.listdir()"
   ]
  },
  {
   "cell_type": "code",
   "execution_count": 7,
   "id": "2827933d",
   "metadata": {},
   "outputs": [
    {
     "data": {
      "text/plain": [
       "['SingleLayer_CH1_02_MB_CA1_40.txt',\n",
       " 'SingleLayer_CH4_03_MB_CA4_30.txt',\n",
       " 'ImportData40.asv',\n",
       " 'SingleLayer_CH2_02_MB_CA2_30.txt',\n",
       " 'red_data',\n",
       " 'SingleLayer_CH2_01_MB_CA2_20.txt',\n",
       " 'SingleLayer_CH2_01_MB_CA2_30.txt',\n",
       " 'reworked_data',\n",
       " 'SingleLayer_CH2_02_MB_CA2_20.txt',\n",
       " 'SingleLayer_CH1_01_MB_CA1_40.txt',\n",
       " 'SingleLayer_CH4_03_MB_CA4_20.txt',\n",
       " 'Untitled.ipynb',\n",
       " 'SingleLayer_CH2_01_MB_CA2_40.txt',\n",
       " 'SingleLayer_CH1_02_MB_CA1_20.txt',\n",
       " 'ImportData40.m',\n",
       " 'SingleLayer_CH1_01_MB_CA1_30.txt',\n",
       " 'SingleLayer_CH1_01_MB_CA1_20.txt',\n",
       " 'SingleLayer_CH4_03_MB_CA4_40.txt',\n",
       " 'SingleLayer_CH1_02_MB_CA1_30.txt',\n",
       " 'SingleLayer_CH2_02_MB_CA2_40.txt',\n",
       " 'SingleLayer_CH1_03_MB_CA1_30.txt',\n",
       " 'SingleLayer_CH4_02_MB_CA4_40.txt',\n",
       " 'ImportData20.m',\n",
       " 'SingleLayer_CH2_03_MB_CA2_40.txt',\n",
       " 'ImportData30.m',\n",
       " 'SingleLayer_CH4_01_MB_CA4_40.txt',\n",
       " 'SingleLayer_CH1_03_MB_CA1_20.txt',\n",
       " 'SingleLayer_CH2_03_MB_CA2_20.txt',\n",
       " '.ipynb_checkpoints',\n",
       " 'SingleLayer_CH4_02_MB_CA4_20.txt',\n",
       " 'NormalData.m',\n",
       " 'SingleLayer_CH4_01_MB_CA4_30.txt',\n",
       " 'SingleLayer_CH4_01_MB_CA4_20.txt',\n",
       " 'SingleLayer_CH4_02_MB_CA4_30.txt',\n",
       " 'SingleLayer_CH1_03_MB_CA1_40.txt',\n",
       " 'SingleLayer_CH2_03_MB_CA2_30.txt']"
      ]
     },
     "execution_count": 7,
     "metadata": {},
     "output_type": "execute_result"
    }
   ],
   "source": [
    "cwd_file_list"
   ]
  },
  {
   "cell_type": "code",
   "execution_count": 8,
   "id": "2c2eead6",
   "metadata": {},
   "outputs": [
    {
     "ename": "FileNotFoundError",
     "evalue": "[Errno 2] No such file or directory: '/Users/Work/Published_PyBaMM/LiS_Models/Cornish & Marinescu (2021)/Data'",
     "output_type": "error",
     "traceback": [
      "\u001b[0;31m---------------------------------------------------------------------------\u001b[0m",
      "\u001b[0;31mFileNotFoundError\u001b[0m                         Traceback (most recent call last)",
      "\u001b[0;32m/var/folders/0m/hp806rv14qz74rjlmvs9nzbm0000gp/T/ipykernel_22436/3195802071.py\u001b[0m in \u001b[0;36m<module>\u001b[0;34m\u001b[0m\n\u001b[1;32m      3\u001b[0m \u001b[0;32mfor\u001b[0m \u001b[0mfile_name\u001b[0m \u001b[0;32min\u001b[0m \u001b[0mcwd_file_list\u001b[0m\u001b[0;34m:\u001b[0m\u001b[0;34m\u001b[0m\u001b[0;34m\u001b[0m\u001b[0m\n\u001b[1;32m      4\u001b[0m     \u001b[0;32mif\u001b[0m \u001b[0;34m\".txt\"\u001b[0m \u001b[0;32min\u001b[0m \u001b[0mfile_name\u001b[0m \u001b[0;32mor\u001b[0m \u001b[0;34m\"d.ipynb\"\u001b[0m \u001b[0;32min\u001b[0m \u001b[0mfile_name\u001b[0m\u001b[0;34m:\u001b[0m\u001b[0;34m\u001b[0m\u001b[0;34m\u001b[0m\u001b[0m\n\u001b[0;32m----> 5\u001b[0;31m         \u001b[0mshutil\u001b[0m\u001b[0;34m.\u001b[0m\u001b[0mcopy2\u001b[0m\u001b[0;34m(\u001b[0m\u001b[0mfile_name\u001b[0m\u001b[0;34m,\u001b[0m \u001b[0;34m'/Users/Work/Published_PyBaMM/LiS_Models/Cornish & Marinescu (2021)/Data'\u001b[0m\u001b[0;34m)\u001b[0m\u001b[0;34m\u001b[0m\u001b[0;34m\u001b[0m\u001b[0m\n\u001b[0m",
      "\u001b[0;32m/usr/local/Cellar/python@3.9/3.9.6/Frameworks/Python.framework/Versions/3.9/lib/python3.9/shutil.py\u001b[0m in \u001b[0;36mcopy2\u001b[0;34m(src, dst, follow_symlinks)\u001b[0m\n\u001b[1;32m    433\u001b[0m     \u001b[0;32mif\u001b[0m \u001b[0mos\u001b[0m\u001b[0;34m.\u001b[0m\u001b[0mpath\u001b[0m\u001b[0;34m.\u001b[0m\u001b[0misdir\u001b[0m\u001b[0;34m(\u001b[0m\u001b[0mdst\u001b[0m\u001b[0;34m)\u001b[0m\u001b[0;34m:\u001b[0m\u001b[0;34m\u001b[0m\u001b[0;34m\u001b[0m\u001b[0m\n\u001b[1;32m    434\u001b[0m         \u001b[0mdst\u001b[0m \u001b[0;34m=\u001b[0m \u001b[0mos\u001b[0m\u001b[0;34m.\u001b[0m\u001b[0mpath\u001b[0m\u001b[0;34m.\u001b[0m\u001b[0mjoin\u001b[0m\u001b[0;34m(\u001b[0m\u001b[0mdst\u001b[0m\u001b[0;34m,\u001b[0m \u001b[0mos\u001b[0m\u001b[0;34m.\u001b[0m\u001b[0mpath\u001b[0m\u001b[0;34m.\u001b[0m\u001b[0mbasename\u001b[0m\u001b[0;34m(\u001b[0m\u001b[0msrc\u001b[0m\u001b[0;34m)\u001b[0m\u001b[0;34m)\u001b[0m\u001b[0;34m\u001b[0m\u001b[0;34m\u001b[0m\u001b[0m\n\u001b[0;32m--> 435\u001b[0;31m     \u001b[0mcopyfile\u001b[0m\u001b[0;34m(\u001b[0m\u001b[0msrc\u001b[0m\u001b[0;34m,\u001b[0m \u001b[0mdst\u001b[0m\u001b[0;34m,\u001b[0m \u001b[0mfollow_symlinks\u001b[0m\u001b[0;34m=\u001b[0m\u001b[0mfollow_symlinks\u001b[0m\u001b[0;34m)\u001b[0m\u001b[0;34m\u001b[0m\u001b[0;34m\u001b[0m\u001b[0m\n\u001b[0m\u001b[1;32m    436\u001b[0m     \u001b[0mcopystat\u001b[0m\u001b[0;34m(\u001b[0m\u001b[0msrc\u001b[0m\u001b[0;34m,\u001b[0m \u001b[0mdst\u001b[0m\u001b[0;34m,\u001b[0m \u001b[0mfollow_symlinks\u001b[0m\u001b[0;34m=\u001b[0m\u001b[0mfollow_symlinks\u001b[0m\u001b[0;34m)\u001b[0m\u001b[0;34m\u001b[0m\u001b[0;34m\u001b[0m\u001b[0m\n\u001b[1;32m    437\u001b[0m     \u001b[0;32mreturn\u001b[0m \u001b[0mdst\u001b[0m\u001b[0;34m\u001b[0m\u001b[0;34m\u001b[0m\u001b[0m\n",
      "\u001b[0;32m/usr/local/Cellar/python@3.9/3.9.6/Frameworks/Python.framework/Versions/3.9/lib/python3.9/shutil.py\u001b[0m in \u001b[0;36mcopyfile\u001b[0;34m(src, dst, follow_symlinks)\u001b[0m\n\u001b[1;32m    262\u001b[0m         \u001b[0mos\u001b[0m\u001b[0;34m.\u001b[0m\u001b[0msymlink\u001b[0m\u001b[0;34m(\u001b[0m\u001b[0mos\u001b[0m\u001b[0;34m.\u001b[0m\u001b[0mreadlink\u001b[0m\u001b[0;34m(\u001b[0m\u001b[0msrc\u001b[0m\u001b[0;34m)\u001b[0m\u001b[0;34m,\u001b[0m \u001b[0mdst\u001b[0m\u001b[0;34m)\u001b[0m\u001b[0;34m\u001b[0m\u001b[0;34m\u001b[0m\u001b[0m\n\u001b[1;32m    263\u001b[0m     \u001b[0;32melse\u001b[0m\u001b[0;34m:\u001b[0m\u001b[0;34m\u001b[0m\u001b[0;34m\u001b[0m\u001b[0m\n\u001b[0;32m--> 264\u001b[0;31m         \u001b[0;32mwith\u001b[0m \u001b[0mopen\u001b[0m\u001b[0;34m(\u001b[0m\u001b[0msrc\u001b[0m\u001b[0;34m,\u001b[0m \u001b[0;34m'rb'\u001b[0m\u001b[0;34m)\u001b[0m \u001b[0;32mas\u001b[0m \u001b[0mfsrc\u001b[0m\u001b[0;34m,\u001b[0m \u001b[0mopen\u001b[0m\u001b[0;34m(\u001b[0m\u001b[0mdst\u001b[0m\u001b[0;34m,\u001b[0m \u001b[0;34m'wb'\u001b[0m\u001b[0;34m)\u001b[0m \u001b[0;32mas\u001b[0m \u001b[0mfdst\u001b[0m\u001b[0;34m:\u001b[0m\u001b[0;34m\u001b[0m\u001b[0;34m\u001b[0m\u001b[0m\n\u001b[0m\u001b[1;32m    265\u001b[0m             \u001b[0;31m# macOS\u001b[0m\u001b[0;34m\u001b[0m\u001b[0;34m\u001b[0m\u001b[0;34m\u001b[0m\u001b[0m\n\u001b[1;32m    266\u001b[0m             \u001b[0;32mif\u001b[0m \u001b[0m_HAS_FCOPYFILE\u001b[0m\u001b[0;34m:\u001b[0m\u001b[0;34m\u001b[0m\u001b[0;34m\u001b[0m\u001b[0m\n",
      "\u001b[0;31mFileNotFoundError\u001b[0m: [Errno 2] No such file or directory: '/Users/Work/Published_PyBaMM/LiS_Models/Cornish & Marinescu (2021)/Data'"
     ]
    }
   ],
   "source": [
    "import shutil\n",
    "\n",
    "for file_name in cwd_file_list:\n",
    "    if \".txt\" in file_name or \"d.ipynb\" in file_name:\n",
    "        shutil.copy2(file_name, '/Users/Work/Published_PyBaMM/LiS_Models/Cornish & Marinescu (2021)/Data')\n"
   ]
  },
  {
   "cell_type": "code",
   "execution_count": null,
   "id": "34ae98cb",
   "metadata": {},
   "outputs": [],
   "source": [
    "file_list = []\n",
    "for file in cwd_file_list:\n",
    "    if '.txt' in file:\n",
    "        file_list.append(file)"
   ]
  },
  {
   "cell_type": "code",
   "execution_count": null,
   "id": "b042b6b8",
   "metadata": {},
   "outputs": [],
   "source": [
    "file_list"
   ]
  },
  {
   "cell_type": "code",
   "execution_count": null,
   "id": "1db3a47b",
   "metadata": {},
   "outputs": [],
   "source": [
    "import pandas as pd"
   ]
  },
  {
   "cell_type": "code",
   "execution_count": null,
   "id": "126346e8",
   "metadata": {},
   "outputs": [],
   "source": [
    "test_data = pd.read_csv('SingleLayer_CH1_01_MB_CA1_30.txt', delimiter = '\\t')"
   ]
  },
  {
   "cell_type": "code",
   "execution_count": null,
   "id": "18be7e00",
   "metadata": {},
   "outputs": [],
   "source": [
    "test_data.head()"
   ]
  },
  {
   "cell_type": "code",
   "execution_count": null,
   "id": "63d61926",
   "metadata": {},
   "outputs": [],
   "source": [
    "test_data.plot('time/s', 'Ecell/V')\n",
    "test_data.plot('time/s', 'I/mA')"
   ]
  },
  {
   "cell_type": "code",
   "execution_count": null,
   "id": "ecd347c3",
   "metadata": {},
   "outputs": [],
   "source": [
    "file_list.sort()"
   ]
  },
  {
   "cell_type": "code",
   "execution_count": null,
   "id": "2b9f468e",
   "metadata": {},
   "outputs": [],
   "source": [
    "file_list"
   ]
  },
  {
   "cell_type": "code",
   "execution_count": null,
   "id": "036641a6",
   "metadata": {},
   "outputs": [],
   "source": [
    "# Let's see what the different between CH1, CH2, and CH4 is\n",
    "\n",
    "data_CH1 = pd.read_csv('SingleLayer_CH1_01_MB_CA1_20.txt',delimiter='\\t')\n",
    "data_CH2 = pd.read_csv('SingleLayer_CH2_01_MB_CA2_20.txt',delimiter='\\t')\n",
    "data_CH4 = pd.read_csv('SingleLayer_CH4_01_MB_CA4_20.txt',delimiter='\\t')"
   ]
  },
  {
   "cell_type": "code",
   "execution_count": null,
   "id": "8c42a269",
   "metadata": {},
   "outputs": [],
   "source": [
    "data_CH1.plot('time/s', 'Ecell/V')\n",
    "data_CH1.plot('time/s', 'I/mA')"
   ]
  },
  {
   "cell_type": "code",
   "execution_count": null,
   "id": "ec14c0b3",
   "metadata": {},
   "outputs": [],
   "source": [
    "data_CH2.plot('time/s', 'Ecell/V')\n",
    "data_CH2.plot('time/s', 'I/mA');"
   ]
  },
  {
   "cell_type": "code",
   "execution_count": null,
   "id": "e92ec5b8",
   "metadata": {},
   "outputs": [],
   "source": [
    "data_CH4.plot('time/s', 'Ecell/V')\n",
    "data_CH4.plot('time/s', 'I/mA');"
   ]
  },
  {
   "cell_type": "markdown",
   "id": "d5f4bce0",
   "metadata": {},
   "source": [
    "It appears that the experiments are roughly the same. Perhaps these are three different cells with the same operational loads?"
   ]
  },
  {
   "cell_type": "code",
   "execution_count": null,
   "id": "dfb037f6",
   "metadata": {},
   "outputs": [],
   "source": [
    "# Lets see what the differences between these and the 01, 02, and 03 subcategories are\n",
    "\n",
    "data_CH1_02 = pd.read_csv('SingleLayer_CH1_02_MB_CA1_20.txt',delimiter='\\t')\n",
    "data_CH2_02 = pd.read_csv('SingleLayer_CH2_02_MB_CA2_20.txt',delimiter='\\t')\n",
    "data_CH4_02 = pd.read_csv('SingleLayer_CH4_02_MB_CA4_20.txt',delimiter='\\t')"
   ]
  },
  {
   "cell_type": "code",
   "execution_count": null,
   "id": "cc27e883",
   "metadata": {},
   "outputs": [],
   "source": [
    "data_CH1_02.plot('time/s', 'Ecell/V')\n",
    "data_CH1_02.plot('time/s', 'I/mA')"
   ]
  },
  {
   "cell_type": "code",
   "execution_count": null,
   "id": "850499e9",
   "metadata": {},
   "outputs": [],
   "source": [
    "data_CH2_02.plot('time/s', 'Ecell/V')\n",
    "data_CH2_02.plot('time/s', 'I/mA');"
   ]
  },
  {
   "cell_type": "code",
   "execution_count": null,
   "id": "398081b0",
   "metadata": {},
   "outputs": [],
   "source": [
    "data_CH4_02.plot('time/s', 'Ecell/V')\n",
    "data_CH4_02.plot('time/s', 'I/mA');"
   ]
  },
  {
   "cell_type": "code",
   "execution_count": null,
   "id": "a30854f4",
   "metadata": {},
   "outputs": [],
   "source": [
    "data_CH1_03 = pd.read_csv('SingleLayer_CH1_03_MB_CA1_20.txt',delimiter='\\t')\n",
    "data_CH2_03 = pd.read_csv('SingleLayer_CH2_03_MB_CA2_20.txt',delimiter='\\t')\n",
    "data_CH4_03 = pd.read_csv('SingleLayer_CH4_03_MB_CA4_20.txt',delimiter='\\t')"
   ]
  },
  {
   "cell_type": "code",
   "execution_count": null,
   "id": "651f5676",
   "metadata": {},
   "outputs": [],
   "source": [
    "data_CH1_03.plot('time/s', 'Ecell/V')\n",
    "data_CH1_03.plot('time/s', 'I/mA')"
   ]
  },
  {
   "cell_type": "code",
   "execution_count": null,
   "id": "10a4031e",
   "metadata": {},
   "outputs": [],
   "source": [
    "data_CH2_03.plot('time/s', 'Ecell/V')\n",
    "data_CH2_03.plot('time/s', 'I/mA');"
   ]
  },
  {
   "cell_type": "code",
   "execution_count": null,
   "id": "672f6d06",
   "metadata": {},
   "outputs": [],
   "source": [
    "data_CH4_03.plot('time/s', 'Ecell/V')\n",
    "data_CH4_03.plot('time/s', 'I/mA');"
   ]
  },
  {
   "cell_type": "markdown",
   "id": "f238a30f",
   "metadata": {},
   "source": [
    "Conclusion:\n",
    "    \n",
    "CH1, CH2, and CH4 are either differnet cells run under the same operational loads or the same cell run on the same operational load 3 times in a row. \n",
    "\n",
    "The subcategories (01,02,03) are the operational loads. CH1 denotes 5 cycles. CH2 denotes one cycle and then the resistance measurements. CH4 is 3 cycles at a large discharge rate (100 mA). "
   ]
  },
  {
   "cell_type": "markdown",
   "id": "1edfc886",
   "metadata": {},
   "source": [
    "# Let's compare the cells"
   ]
  },
  {
   "cell_type": "code",
   "execution_count": null,
   "id": "ec08f71a",
   "metadata": {},
   "outputs": [],
   "source": [
    "# First, get the time stamps for changes from charge to discharge\n",
    "\n",
    "def plot_cycle(filename, sep_figs = False):\n",
    "    # get data\n",
    "    data = pd.read_csv(file_name,delimiter='\\t')\n",
    "    \n",
    "    # get time stamps to know when charge/discharge occurs\n",
    "    time_stamps = data[abs(data['I/mA'].diff()) > 30]['time/s'].values\n",
    "    np.append(time_stamps,data['time/s'].values[-1])\n",
    "    legend = []\n",
    "    \n",
    "    if sep_figs == True:\n",
    "        plt.figure()\n",
    "        \n",
    "    if \"01\" in file_name:\n",
    "        start = 1 # ignore initial discharge because its always very odd\n",
    "    else:\n",
    "        start = 0\n",
    "    for index in range(start,len(time_stamps)-1):\n",
    "        begin_index = time_stamps[index].index\n",
    "        end_index = time_stamps[index+1].index\n",
    "\n",
    "        voltage = data.iloc[begin_index:end_index]['Ecell/V']\n",
    "\n",
    "        begin_time = time_stamps[index]\n",
    "        end_time = time_stamps[index+1]\n",
    "        current = np.mean(data.iloc[begin_index:end_index]['I/mA'])\n",
    "        capacity = (data.iloc[begin_index:end_index]['time/s']-begin_time)*abs(current)/(1000*3600)\n",
    "\n",
    "        # make legend list\n",
    "        if current > 0:\n",
    "            legend_string = str(round(current,1)/1000)+ ' A Charge ' + str(int(( index+1)/2))\n",
    "            capacity = capacity.iloc[-1] - capacity\n",
    "        else:\n",
    "            legend_string = str(abs(round(current,1)/1000))+ ' A Disharge ' + str(int((index/2) + 1))\n",
    "        legend.append(legend_string)\n",
    "        \n",
    "        plt.plot(capacity, voltage)\n",
    "\n",
    "    #plt.legend(legend)\n",
    "    plt.xlabel('Capacity [Ah]')\n",
    "    plt.ylabel('Voltage [V]')\n",
    "    \n",
    "    if \"CH1\" in file_name:\n",
    "        cell = \"Cell 1\"\n",
    "    elif \"CH2\" in file_name:\n",
    "        cell = \"Cell 2\"\n",
    "    elif \"CH4\" in file_name:\n",
    "        cell = \"Cell 4\"\n",
    "    \n",
    "    if \"01\" in file_name:\n",
    "        operation = \"Initial Cycling\"\n",
    "    elif \"02\" in file_name:\n",
    "        operation = \"Resistance Measurement\"\n",
    "    elif \"03\" in file_name:\n",
    "        operation = \"High Current Discharge\"\n",
    "        \n",
    "    if \"20\" in file_name:\n",
    "        temp = \"20 degree\"\n",
    "    elif \"30\" in file_name:\n",
    "        temp = \"30 degree\"\n",
    "    elif \"40\" in file_name:\n",
    "        temp = \"40 degree\"\n",
    "        \n",
    "    plt.title(operation + \" for \" + temp + ' ' + cell)\n",
    "    "
   ]
  },
  {
   "cell_type": "code",
   "execution_count": null,
   "id": "d7143426",
   "metadata": {
    "scrolled": false
   },
   "outputs": [],
   "source": [
    "for file_name in file_list:\n",
    "    plot_cycle(file_name, sep_figs = True)"
   ]
  },
  {
   "cell_type": "code",
   "execution_count": null,
   "id": "039aa189",
   "metadata": {
    "scrolled": false
   },
   "outputs": [],
   "source": [
    "file_list_short = [\n",
    "        'SingleLayer_CH1_01_MB_CA1_20.txt',\n",
    "        'SingleLayer_CH2_01_MB_CA2_20.txt',\n",
    "        'SingleLayer_CH4_01_MB_CA4_20.txt'\n",
    "    \n",
    "    ]\n",
    "for file_name in file_list_short:\n",
    "    plot_cycle(file_name, sep_figs = False)"
   ]
  },
  {
   "cell_type": "code",
   "execution_count": null,
   "id": "1955439e",
   "metadata": {},
   "outputs": [],
   "source": [
    "file_list_short = [\n",
    "        'SingleLayer_CH1_01_MB_CA1_30.txt',\n",
    "        'SingleLayer_CH2_01_MB_CA2_30.txt',\n",
    "        'SingleLayer_CH4_01_MB_CA4_30.txt'\n",
    "    \n",
    "    ]\n",
    "for file_name in file_list_short:\n",
    "    plot_cycle(file_name, sep_figs = False)"
   ]
  },
  {
   "cell_type": "code",
   "execution_count": null,
   "id": "59e2293f",
   "metadata": {},
   "outputs": [],
   "source": [
    "file_list_short = [\n",
    "        'SingleLayer_CH1_01_MB_CA1_40.txt',\n",
    "        'SingleLayer_CH2_01_MB_CA2_40.txt',\n",
    "        'SingleLayer_CH4_01_MB_CA4_40.txt'\n",
    "    \n",
    "    ]\n",
    "for file_name in file_list_short:\n",
    "    plot_cycle(file_name, sep_figs = False)"
   ]
  },
  {
   "cell_type": "code",
   "execution_count": null,
   "id": "6a3366ae",
   "metadata": {
    "scrolled": false
   },
   "outputs": [],
   "source": [
    "def smooth(data):\n",
    "    '''\n",
    "    Smooth data in the same way as the matlab function\n",
    "    '''\n",
    "    smooth_data = []\n",
    "    index = len(data)\n",
    "    for i in range(0,index):\n",
    "        if i == 0 or i == index-1:\n",
    "            smooth_data.append(data[i])\n",
    "        elif i == 1 or i == index-2:\n",
    "            smooth_data.append((data[i-1]+data[i]+data[i+1])/3)\n",
    "        else:\n",
    "            smooth_data.append((data[i-2]+data[i-1]+data[i]+data[i+1]+data[i+2])/5)\n",
    "    return smooth_data\n",
    "\n",
    "\n",
    "def res_plots(file_name, sep_figs=True):\n",
    "    # get data\n",
    "    data = pd.read_csv(file_name,delimiter='\\t')\n",
    "\n",
    "    # get time stamps to know when charge/discharge occurs\n",
    "    time_stamps = data[abs(data['I/mA'].diff()) > 30]['time/s'] \n",
    "    \n",
    "    legend = []\n",
    "\n",
    "    if sep_figs == True:\n",
    "        plt.figure()\n",
    "        \n",
    "    for index in range(1,len(time_stamps)-1):\n",
    "        # make half-cycle data frame\n",
    "        begin_index = time_stamps.index[index]\n",
    "        end_index = time_stamps.index[index+1]\n",
    "        current = np.mean(data.iloc[begin_index:end_index]['I/mA'])\n",
    "        data_single = data.iloc[begin_index:end_index]\n",
    "\n",
    "        # get current interrupt time stamps\n",
    "        inter_index = data_single[abs(data_single['I/mA'].diff()) > 1].index\n",
    "\n",
    "        # instantiate the resistance & capacity data sets\n",
    "        resistance = []\n",
    "        capacity = []\n",
    "        for sub_index in inter_index[:-2]:\n",
    "\n",
    "            step = -1\n",
    "            V_new = data['Ecell/V'].loc[sub_index+step]\n",
    "            V_old = data['Ecell/V'].loc[sub_index]\n",
    "\n",
    "            I_new = data['I/mA'].loc[sub_index+step]\n",
    "            I_old = data['I/mA'].loc[sub_index]\n",
    "\n",
    "            current_vals = abs(data['I/mA'].iloc[begin_index:sub_index].values[1:])\n",
    "            dt = data['time/s'].iloc[begin_index:sub_index].diff().values[1:]\n",
    "\n",
    "            resistance.append( 1000*(V_new-V_old)/(I_new-I_old) )\n",
    "            capacity.append(abs(np.cumsum( current_vals*dt   )*0.1/(1000*3600))[-1])\n",
    "\n",
    "\n",
    "        # make legend list\n",
    "        if current > 0:\n",
    "            legend_string = str(round(current,1)/1000)+ ' A Charge ' + str(int(( index+1)/2))\n",
    "            capacity = capacity[-1] - capacity\n",
    "        else:\n",
    "            legend_string = str(abs(round(current,1)/1000))+ ' A Disharge ' + str(int((index/2) + 1))\n",
    "        legend.append(legend_string)\n",
    "\n",
    "        smooth_res = smooth(resistance)\n",
    "        plt.scatter(capacity[::2], smooth_res[::2])\n",
    "\n",
    "    #plt.legend(legend)\n",
    "    plt.xlabel('Capacity [Ah]')\n",
    "    plt.ylabel('Resistance [Ohms]')\n",
    "\n",
    "    if \"CH1\" in file_name:\n",
    "        cell = \"Cell 1\"\n",
    "    elif \"CH2\" in file_name:\n",
    "        cell = \"Cell 2\"\n",
    "    elif \"CH4\" in file_name:\n",
    "        cell = \"Cell 4\"\n",
    "\n",
    "    if \"01\" in file_name:\n",
    "        operation = \"Initial Cycling\"\n",
    "    elif \"02\" in file_name:\n",
    "        operation = \"Resistance Measurement\"\n",
    "    elif \"03\" in file_name:\n",
    "        operation = \"High Current Discharge\"\n",
    "\n",
    "    if \"20\" in file_name:\n",
    "        temp = \"20 degree\"\n",
    "    elif \"30\" in file_name:\n",
    "        temp = \"30 degree\"\n",
    "    elif \"40\" in file_name:\n",
    "        temp = \"40 degree\"\n",
    "\n",
    "    plt.title(operation + \" for \" + temp + ' ' + cell)"
   ]
  },
  {
   "cell_type": "code",
   "execution_count": null,
   "id": "a3419ab3",
   "metadata": {},
   "outputs": [],
   "source": [
    "file_list_short = [\n",
    "        'SingleLayer_CH1_02_MB_CA1_20.txt',\n",
    "        'SingleLayer_CH2_02_MB_CA2_20.txt',\n",
    "        'SingleLayer_CH4_02_MB_CA4_20.txt'\n",
    "    \n",
    "    ]\n",
    "for file_name in file_list_short:\n",
    "    res_plots(file_name, sep_figs = False)"
   ]
  },
  {
   "cell_type": "code",
   "execution_count": null,
   "id": "dd3d1d30",
   "metadata": {},
   "outputs": [],
   "source": [
    "file_list_short = [\n",
    "        'SingleLayer_CH1_02_MB_CA1_30.txt',\n",
    "        'SingleLayer_CH2_02_MB_CA2_30.txt',\n",
    "        'SingleLayer_CH4_02_MB_CA4_30.txt'\n",
    "    \n",
    "    ]\n",
    "for file_name in file_list_short:\n",
    "    res_plots(file_name, sep_figs = False)"
   ]
  },
  {
   "cell_type": "code",
   "execution_count": null,
   "id": "e09e5d8a",
   "metadata": {},
   "outputs": [],
   "source": [
    "file_list_short = [\n",
    "        'SingleLayer_CH1_02_MB_CA1_40.txt',\n",
    "        'SingleLayer_CH2_02_MB_CA2_40.txt',\n",
    "        'SingleLayer_CH4_02_MB_CA4_40.txt'\n",
    "    \n",
    "    ]\n",
    "for file_name in file_list_short:\n",
    "    res_plots(file_name, sep_figs = False)"
   ]
  },
  {
   "cell_type": "code",
   "execution_count": null,
   "id": "24683d86",
   "metadata": {},
   "outputs": [],
   "source": [
    "shutil.copy2('reworked_data', '/Users/Work/Published_PyBaMM/LiS_Models/Cornish & Marinescu (2021)/Data')"
   ]
  },
  {
   "cell_type": "code",
   "execution_count": null,
   "id": "ace2e461",
   "metadata": {},
   "outputs": [],
   "source": []
  }
 ],
 "metadata": {
  "kernelspec": {
   "display_name": "Python 3 (ipykernel)",
   "language": "python",
   "name": "python3"
  },
  "language_info": {
   "codemirror_mode": {
    "name": "ipython",
    "version": 3
   },
   "file_extension": ".py",
   "mimetype": "text/x-python",
   "name": "python",
   "nbconvert_exporter": "python",
   "pygments_lexer": "ipython3",
   "version": "3.9.6"
  }
 },
 "nbformat": 4,
 "nbformat_minor": 5
}
