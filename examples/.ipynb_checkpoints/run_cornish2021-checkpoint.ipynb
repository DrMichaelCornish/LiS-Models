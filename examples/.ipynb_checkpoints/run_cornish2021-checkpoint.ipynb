{
 "cells": [
  {
   "cell_type": "code",
   "execution_count": 1,
   "id": "3d746ad8",
   "metadata": {},
   "outputs": [],
   "source": [
    "import os\n",
    "os.chdir('../') # this insures we can use the models folder as a python module \n",
    "# Any figures saved or data pickled in the current working directly will be saved up one folder from here.\n",
    "import pybamm\n",
    "import models\n",
    "import numpy as np\n",
    "import matplotlib.pyplot as plt"
   ]
  },
  {
   "cell_type": "code",
   "execution_count": 2,
   "id": "de59fd3d",
   "metadata": {},
   "outputs": [],
   "source": [
    "model = models.ZeroD_Cornish_type()"
   ]
  },
  {
   "cell_type": "code",
   "execution_count": 3,
   "id": "df90162f",
   "metadata": {},
   "outputs": [],
   "source": [
    "experiment = pybamm.Experiment(['Charge at 0.0211 A for 11.85 hours'])\n",
    "\n",
    "sim = pybamm.Simulation(\n",
    "    model=model,\n",
    "    experiment=experiment,\n",
    "    solver=pybamm.CasadiSolver(\n",
    "        atol=1e-6,\n",
    "        rtol=1e-6,\n",
    "        #dt_max = .01,\n",
    "        #extra_options_setup={\"max_step_size\": 0.1}, \n",
    "        max_step_decrease_count = 15,\n",
    "    ),\n",
    ")"
   ]
  },
  {
   "cell_type": "code",
   "execution_count": 4,
   "id": "b0a8af93",
   "metadata": {},
   "outputs": [
    {
     "name": "stderr",
     "output_type": "stream",
     "text": [
      "psetup failed: .../casadi/interfaces/sundials/idas_interface.cpp:849: Calculating Jacobian failed\n"
     ]
    },
    {
     "data": {
      "text/plain": [
       "<pybamm.solvers.solution.Solution at 0x12ca2b340>"
      ]
     },
     "execution_count": 4,
     "metadata": {},
     "output_type": "execute_result"
    }
   ],
   "source": [
    "sim.solve()"
   ]
  },
  {
   "cell_type": "code",
   "execution_count": 5,
   "id": "194ae861",
   "metadata": {},
   "outputs": [
    {
     "data": {
      "image/png": "[encoded data removed]",
      "text/plain": [
       "<Figure size 432x288 with 1 Axes>"
      ]
     },
     "metadata": {
      "needs_background": "light"
     },
     "output_type": "display_data"
    }
   ],
   "source": [
    "capacity = sim.solution['Capacity [Ah]'].entries\n",
    "V = sim.solution[\"Terminal voltage [V]\"].entries\n",
    "plt.plot(capacity, V)\n",
    "\n",
    "plt.legend([\"0.1C\",])\n",
    "plt.xlabel('Capacity [Ah]')\n",
    "plt.ylabel('Voltage [V]');"
   ]
  },
  {
   "cell_type": "code",
   "execution_count": null,
   "id": "6a12c2a3",
   "metadata": {},
   "outputs": [],
   "source": []
  }
 ],
 "metadata": {
  "kernelspec": {
   "display_name": "published_pybamm",
   "language": "python",
   "name": "published_pybamm"
  },
  "language_info": {
   "codemirror_mode": {
    "name": "ipython",
    "version": 3
   },
   "file_extension": ".py",
   "mimetype": "text/x-python",
   "name": "python",
   "nbconvert_exporter": "python",
   "pygments_lexer": "ipython3",
   "version": "3.9.6"
  }
 },
 "nbformat": 4,
 "nbformat_minor": 5
}
