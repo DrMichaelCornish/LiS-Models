{
 "cells": [
  {
   "cell_type": "code",
   "execution_count": 1,
   "id": "4f087019",
   "metadata": {},
   "outputs": [],
   "source": [
    "import os\n",
    "os.chdir('../') # this insures we can use the models folder as a python module \n",
    "# Any figures saved or data pickled in the current working directly will be saved up one folder from here.\n",
    "import pybamm\n",
    "import models\n",
    "import numpy as np\n",
    "import matplotlib.pyplot as plt"
   ]
  },
  {
   "cell_type": "code",
   "execution_count": null,
   "id": "86374b12",
   "metadata": {},
   "outputs": [],
   "source": []
  }
 ],
 "metadata": {
  "kernelspec": {
   "display_name": "Python 3 (ipykernel)",
   "language": "python",
   "name": "python3"
  },
  "language_info": {
   "codemirror_mode": {
    "name": "ipython",
    "version": 3
   },
   "file_extension": ".py",
   "mimetype": "text/x-python",
   "name": "python",
   "nbconvert_exporter": "python",
   "pygments_lexer": "ipython3",
   "version": "3.9.6"
  }
 },
 "nbformat": 4,
 "nbformat_minor": 5
}
