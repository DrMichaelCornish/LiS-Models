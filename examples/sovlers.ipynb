{
 "cells": [
  {
   "cell_type": "code",
   "execution_count": 1,
   "id": "a4b85952",
   "metadata": {},
   "outputs": [],
   "source": [
    "import os\n",
    "os.chdir('../') # this insures we can use the models folder as a python module \n",
    "# Any figures saved or data pickled in the current working directly will be saved up one folder from here.\n",
    "import pybamm\n",
    "import models\n",
    "import numpy as np\n",
    "import matplotlib.pyplot as plt"
   ]
  },
  {
   "cell_type": "markdown",
   "id": "a514d826",
   "metadata": {},
   "source": [
    "# Run an Experiment"
   ]
  },
  {
   "cell_type": "markdown",
   "id": "b42e05c4",
   "metadata": {},
   "source": [
    "### This is perhaps the most intuitive way to solve a model. The method requires syntax that is human readable, even people not familiar with PyBaMM! Here we will run a simple charge and discharge cycle with two different C-rates. Note that we can use conditional statements, as in the discharge, but that they are not necessary, as in the charge. "
   ]
  },
  {
   "cell_type": "code",
   "execution_count": null,
   "id": "8969758f",
   "metadata": {},
   "outputs": [],
   "source": []
  },
  {
   "cell_type": "markdown",
   "id": "83784bb3",
   "metadata": {},
   "source": [
    "# Run the solve() method"
   ]
  },
  {
   "cell_type": "markdown",
   "id": "a78c3c5e",
   "metadata": {},
   "source": [
    "### This method is more basic in the specification of time interval to simulate. However, the use of this method allows us to add complexity to the model inputs. For example, we can solve for a non-constant current charge.  "
   ]
  },
  {
   "cell_type": "code",
   "execution_count": null,
   "id": "e84339c7",
   "metadata": {},
   "outputs": [],
   "source": []
  },
  {
   "cell_type": "markdown",
   "id": "e7f3c7aa",
   "metadata": {},
   "source": [
    "# Run the step() method"
   ]
  },
  {
   "cell_type": "markdown",
   "id": "fee1b831",
   "metadata": {},
   "source": [
    "### This method requires a little bit more work on our part, but is helpful for debugging. Essentially, the experiment and solve methods will not return any data from the simulation if the there is a fatal error. Therefore, we can use the step method to obtain data about the simulation up to the part of the simulation which is causing issue. This in turn can help us understand what is causing the error. "
   ]
  },
  {
   "cell_type": "code",
   "execution_count": null,
   "id": "d71dac98",
   "metadata": {},
   "outputs": [],
   "source": []
  }
 ],
 "metadata": {
  "kernelspec": {
   "display_name": "Python 3 (ipykernel)",
   "language": "python",
   "name": "python3"
  },
  "language_info": {
   "codemirror_mode": {
    "name": "ipython",
    "version": 3
   },
   "file_extension": ".py",
   "mimetype": "text/x-python",
   "name": "python",
   "nbconvert_exporter": "python",
   "pygments_lexer": "ipython3",
   "version": "3.9.6"
  }
 },
 "nbformat": 4,
 "nbformat_minor": 5
}
