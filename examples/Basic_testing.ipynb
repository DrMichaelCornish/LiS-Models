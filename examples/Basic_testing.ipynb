{
 "cells": [
  {
   "cell_type": "code",
   "execution_count": 1,
   "metadata": {},
   "outputs": [],
   "source": [
    "import os\n",
    "os.chdir('../') # this insures we can use the models folder as a python module \n",
    "# Any figures saved or data pickled in the current working directly will be saved up one folder from here.\n",
    "import pybamm\n",
    "import models\n",
    "import numpy as np\n",
    "import matplotlib.pyplot as plt"
   ]
  },
  {
   "cell_type": "code",
   "execution_count": 2,
   "metadata": {},
   "outputs": [
    {
     "name": "stdout",
     "output_type": "stream",
     "text": [
      "0.001\n",
      "0.013113145894720814\n",
      "6.38122975361841e-18\n",
      "4.5372721447883005e-64\n",
      "EH initial\n",
      "2.0\n",
      "eta_H initial\n",
      "0.0\n",
      "iH initial\n",
      "-0.0\n",
      "EM initial\n",
      "2.0\n",
      "eta_M initial\n",
      "0.0\n",
      "iM initial\n",
      "-0.0\n",
      "EL initial\n",
      "1.9998871215691447\n",
      "eta_L initial\n",
      "0.00011287843085527882\n",
      "iL initial\n",
      "-0.021100000000008695\n"
     ]
    }
   ],
   "source": [
    "cap = 0.211\n",
    "\n",
    "Ms = 32\n",
    "F = 9.649e4\n",
    "\n",
    "R = 8.3145\n",
    "T = 298\n",
    "ar = 0.960\n",
    "I = cap*0.2#1.7\n",
    "nu = 0.0114\n",
    "\n",
    "#f_l = np.sqrt(nu*Ms/2)# (Ms*nu/2)**(1/2)\n",
    "#f_m = np.sqrt(nu*Ms)#(4*Ms*nu)**(1/2)\n",
    "#f_h = np.sqrt(nu*Ms)*2/(8**(1/4))#(16*Ms*nu)**(1/4)\n",
    "\n",
    "f_h = ((4 ** 2) * Ms * nu / 8)**(1/4)\n",
    "f_m = ((2 ** 2) * Ms * nu / 4)**(1/2)\n",
    "f_l = ((1 ** 2) * Ms * nu / 2)**(1/2)\n",
    "\n",
    "EL0 = 1.9\n",
    "EM0 = 2.41\n",
    "EH0 = 2.43\n",
    "\n",
    "ih0 = 5\n",
    "im0 = 5\n",
    "il0 = 5\n",
    "\n",
    "\n",
    "S1_initial_cha = 1e-3\n",
    "V_initial_cha = 2.0\n",
    "I = -0.0211\n",
    "def S2_func(S1):\n",
    "    constant = np.exp((2*F/(R*T))*(V_initial_cha - (2*R*T/F)*np.arcsinh(I/(-2*ar*il0)) - EL0 ))/(f_l**2)\n",
    "    return constant*(S1**2)\n",
    "\n",
    "def S4_func(S2):\n",
    "    constant = np.exp((2*F/(R*T))*(V_initial_cha  - EM0 ))/(f_m**2)\n",
    "    return constant*(S2**2)\n",
    "\n",
    "def S8_func(S4):\n",
    "    constant = np.exp((4*F/(R*T))*(V_initial_cha - EH0 ))/(f_h**4)\n",
    "    return constant*(S4**2)\n",
    "\n",
    "S2_initial_cha = S2_func(S1_initial_cha)\n",
    "S4_initial_cha = S4_func(S2_initial_cha)\n",
    "S8_initial_cha = S8_func(S4_initial_cha)\n",
    "print(S1_initial_cha)\n",
    "print(S2_initial_cha)\n",
    "print(S4_initial_cha)\n",
    "print(S8_initial_cha)\n",
    "\n",
    "\n",
    "EH = EH0 + (R*T)*np.log(f_h*(S8_initial_cha**(1/4))/(S4_initial_cha**(1/2)))/(F)\n",
    "eta_H = V_initial_cha - EH\n",
    "iH = -2*ih0*ar*np.sinh(F*eta_H/(2*R*T))\n",
    "print('EH initial')\n",
    "print(EH)\n",
    "print('eta_H initial')\n",
    "print(eta_H)\n",
    "print('iH initial')\n",
    "print(iH)\n",
    "\n",
    "EM = EM0 + (R*T)*np.log(f_m*(S4_initial_cha**(1/2))/S2_initial_cha)/(F)\n",
    "eta_M = V_initial_cha - EM\n",
    "iM = -2*im0*ar*np.sinh(F*eta_M/(2*R*T))\n",
    "print('EM initial')\n",
    "print(EM)\n",
    "print('eta_M initial')\n",
    "print(eta_M)\n",
    "print('iM initial')\n",
    "print(iM)\n",
    "\n",
    "EL = EL0 + (R*T/F)*np.log(f_l*(S2_initial_cha**(1/2))/S1_initial_cha)\n",
    "eta_L = V_initial_cha - EL\n",
    "iL = -2*il0*ar*np.sinh(F*eta_L/(2*R*T))\n",
    "print('EL initial')\n",
    "print(EL)\n",
    "print('eta_L initial')\n",
    "print(eta_L)\n",
    "print('iL initial')\n",
    "print(iL)"
   ]
  },
  {
   "cell_type": "code",
   "execution_count": 3,
   "metadata": {},
   "outputs": [
    {
     "name": "stdout",
     "output_type": "stream",
     "text": [
      "1e-06\n"
     ]
    },
    {
     "data": {
      "text/plain": [
       "-0.09421794260108765"
      ]
     },
     "execution_count": 3,
     "metadata": {},
     "output_type": "execute_result"
    }
   ],
   "source": [
    "Sp_initial_cha = .43\n",
    "S_star = 1e-6#S1_initial_cha*0.01\n",
    "kp = 5000\n",
    "print(S_star)\n",
    "(2 * Ms * iL / (1 * F)) - kp * Sp_initial_cha * (S1_initial_cha - S_star) / (nu * 2000)"
   ]
  },
  {
   "cell_type": "code",
   "execution_count": 21,
   "metadata": {},
   "outputs": [],
   "source": [
    "model = models.ZeroD_Cornish_type()\n",
    "\n",
    "current = -0.0211\n",
    "param = model.default_parameter_values\n",
    "param.update(\n",
    "    {\n",
    "        \"Current function [A]\": current,\n",
    "        \"Initial Condition for Terminal Voltage [V]\": V_initial_cha,\n",
    "        \"Initial Condition for S8 ion [g]\" : S8_initial_cha,\n",
    "        \"Initial Condition for S4 ion [g]\" : S4_initial_cha,\n",
    "        \"Initial Condition for S2 ion [g]\" : S2_initial_cha,\n",
    "        \"Initial Condition for S ion [g]\" : S1_initial_cha,\n",
    "        \"Initial Condition for Precipitated Sulfur [g]\" : Sp_initial_cha,\n",
    "        \"Lower voltage cut-off [V]\" : 1.2,\n",
    "        \"Upper voltage cut-off [V]\" : 2.5,\n",
    "        \"Standard Potential L [V]\" : EL0,\n",
    "        \"Standard Potential M [V]\" : EM0,\n",
    "        \"Standard Potential H [V]\" : EH0,\n",
    "        \"Exchange current density L [A.m-2]\": il0,\n",
    "        \"Exchange current density M [A.m-2]\": im0,\n",
    "        \"Exchange current density H [A.m-2]\": ih0,\n",
    "        \"Active reaction area per cell [m2]\":ar,\n",
    "        \"S saturation mass [g]\": S_star,#*.0145,\n",
    "        'gamma': 0,#10e1,#10,#10e40,#10,\n",
    "        'kappa': 0,#10e10,#10e28,#10e80,\n",
    "        'Shuttle rate coefficient during charge [s-1]': .001,\n",
    "        'Shuttle rate coefficient during discharge [s-1]': 0,\n",
    "        'Precipitation rate [s-1]': kp\n",
    "        \n",
    "        }\n",
    ")\n",
    "\n",
    "sim = pybamm.Simulation(\n",
    "    model=model,\n",
    "    #experiment=experiment,\n",
    "    parameter_values = param,\n",
    "    solver=pybamm.CasadiSolver(\n",
    "        atol=1e-6,\n",
    "        rtol=1e-6,\n",
    "        #dt_max = .01,\n",
    "        #extra_options_setup={\"max_step_size\": 0.1}, \n",
    "        max_step_decrease_count = 15,\n",
    "    ),\n",
    ")"
   ]
  },
  {
   "cell_type": "code",
   "execution_count": 22,
   "metadata": {
    "scrolled": true
   },
   "outputs": [
    {
     "name": "stderr",
     "output_type": "stream",
     "text": [
      "psetup failed: .../casadi/interfaces/sundials/idas_interface.cpp:849: Calculating Jacobian failed\n",
      "psetup failed: .../casadi/interfaces/sundials/idas_interface.cpp:849: Calculating Jacobian failed\n",
      "psetup failed: .../casadi/interfaces/sundials/idas_interface.cpp:849: Calculating Jacobian failed\n",
      "psetup failed: .../casadi/interfaces/sundials/idas_interface.cpp:849: Calculating Jacobian failed\n",
      "psetup failed: .../casadi/interfaces/sundials/idas_interface.cpp:849: Calculating Jacobian failed\n",
      "psetup failed: .../casadi/interfaces/sundials/idas_interface.cpp:849: Calculating Jacobian failed\n",
      "psetup failed: .../casadi/interfaces/sundials/idas_interface.cpp:849: Calculating Jacobian failed\n",
      "psetup failed: .../casadi/interfaces/sundials/idas_interface.cpp:849: Calculating Jacobian failed\n",
      "psetup failed: .../casadi/interfaces/sundials/idas_interface.cpp:849: Calculating Jacobian failed\n",
      "psetup failed: .../casadi/interfaces/sundials/idas_interface.cpp:849: Calculating Jacobian failed\n",
      "psetup failed: .../casadi/interfaces/sundials/idas_interface.cpp:849: Calculating Jacobian failed\n",
      "psetup failed: .../casadi/interfaces/sundials/idas_interface.cpp:849: Calculating Jacobian failed\n",
      "psetup failed: .../casadi/interfaces/sundials/idas_interface.cpp:849: Calculating Jacobian failed\n",
      "psetup failed: .../casadi/interfaces/sundials/idas_interface.cpp:849: Calculating Jacobian failed\n",
      "psetup failed: .../casadi/interfaces/sundials/idas_interface.cpp:849: Calculating Jacobian failed\n",
      "psetup failed: .../casadi/interfaces/sundials/idas_interface.cpp:849: Calculating Jacobian failed\n",
      "psetup failed: .../casadi/interfaces/sundials/idas_interface.cpp:849: Calculating Jacobian failed\n",
      "psetup failed: .../casadi/interfaces/sundials/idas_interface.cpp:849: Calculating Jacobian failed\n",
      "psetup failed: .../casadi/interfaces/sundials/idas_interface.cpp:849: Calculating Jacobian failed\n",
      "At t = 877.581 and h = 4.53004e-06, the corrector convergence failed repeatedly or with |h| = hmin.\n",
      "psetup failed: .../casadi/interfaces/sundials/idas_interface.cpp:849: Calculating Jacobian failed\n",
      "psetup failed: .../casadi/interfaces/sundials/idas_interface.cpp:849: Calculating Jacobian failed\n",
      "psetup failed: .../casadi/interfaces/sundials/idas_interface.cpp:849: Calculating Jacobian failed\n",
      "psetup failed: .../casadi/interfaces/sundials/idas_interface.cpp:849: Calculating Jacobian failed\n",
      "psetup failed: .../casadi/interfaces/sundials/idas_interface.cpp:849: Calculating Jacobian failed\n",
      "psetup failed: .../casadi/interfaces/sundials/idas_interface.cpp:849: Calculating Jacobian failed\n",
      "psetup failed: .../casadi/interfaces/sundials/idas_interface.cpp:849: Calculating Jacobian failed\n",
      "psetup failed: .../casadi/interfaces/sundials/idas_interface.cpp:849: Calculating Jacobian failed\n",
      "psetup failed: .../casadi/interfaces/sundials/idas_interface.cpp:849: Calculating Jacobian failed\n",
      "psetup failed: .../casadi/interfaces/sundials/idas_interface.cpp:849: Calculating Jacobian failed\n",
      "psetup failed: .../casadi/interfaces/sundials/idas_interface.cpp:849: Calculating Jacobian failed\n",
      "psetup failed: .../casadi/interfaces/sundials/idas_interface.cpp:849: Calculating Jacobian failed\n",
      "psetup failed: .../casadi/interfaces/sundials/idas_interface.cpp:849: Calculating Jacobian failed\n",
      "psetup failed: .../casadi/interfaces/sundials/idas_interface.cpp:849: Calculating Jacobian failed\n",
      "psetup failed: .../casadi/interfaces/sundials/idas_interface.cpp:849: Calculating Jacobian failed\n",
      "psetup failed: .../casadi/interfaces/sundials/idas_interface.cpp:849: Calculating Jacobian failed\n",
      "psetup failed: .../casadi/interfaces/sundials/idas_interface.cpp:849: Calculating Jacobian failed\n",
      "psetup failed: .../casadi/interfaces/sundials/idas_interface.cpp:849: Calculating Jacobian failed\n",
      "psetup failed: .../casadi/interfaces/sundials/idas_interface.cpp:849: Calculating Jacobian failed\n",
      "psetup failed: .../casadi/interfaces/sundials/idas_interface.cpp:849: Calculating Jacobian failed\n",
      "psetup failed: .../casadi/interfaces/sundials/idas_interface.cpp:849: Calculating Jacobian failed\n",
      "At t = 873.563 and h = 1.41564e-07, the corrector convergence failed repeatedly or with |h| = hmin.\n",
      "psetup failed: .../casadi/interfaces/sundials/idas_interface.cpp:849: Calculating Jacobian failed\n",
      "psetup failed: .../casadi/interfaces/sundials/idas_interface.cpp:849: Calculating Jacobian failed\n",
      "psetup failed: .../casadi/interfaces/sundials/idas_interface.cpp:849: Calculating Jacobian failed\n",
      "psetup failed: .../casadi/interfaces/sundials/idas_interface.cpp:849: Calculating Jacobian failed\n",
      "psetup failed: .../casadi/interfaces/sundials/idas_interface.cpp:849: Calculating Jacobian failed\n",
      "psetup failed: .../casadi/interfaces/sundials/idas_interface.cpp:849: Calculating Jacobian failed\n",
      "psetup failed: .../casadi/interfaces/sundials/idas_interface.cpp:849: Calculating Jacobian failed\n",
      "psetup failed: .../casadi/interfaces/sundials/idas_interface.cpp:849: Calculating Jacobian failed\n",
      "psetup failed: .../casadi/interfaces/sundials/idas_interface.cpp:849: Calculating Jacobian failed\n",
      "psetup failed: .../casadi/interfaces/sundials/idas_interface.cpp:849: Calculating Jacobian failed\n",
      "psetup failed: .../casadi/interfaces/sundials/idas_interface.cpp:849: Calculating Jacobian failed\n",
      "psetup failed: .../casadi/interfaces/sundials/idas_interface.cpp:849: Calculating Jacobian failed\n",
      "psetup failed: .../casadi/interfaces/sundials/idas_interface.cpp:849: Calculating Jacobian failed\n",
      "psetup failed: .../casadi/interfaces/sundials/idas_interface.cpp:849: Calculating Jacobian failed\n",
      "psetup failed: .../casadi/interfaces/sundials/idas_interface.cpp:849: Calculating Jacobian failed\n",
      "psetup failed: .../casadi/interfaces/sundials/idas_interface.cpp:849: Calculating Jacobian failed\n",
      "psetup failed: .../casadi/interfaces/sundials/idas_interface.cpp:849: Calculating Jacobian failed\n",
      "psetup failed: .../casadi/interfaces/sundials/idas_interface.cpp:849: Calculating Jacobian failed\n",
      "psetup failed: .../casadi/interfaces/sundials/idas_interface.cpp:849: Calculating Jacobian failed\n",
      "psetup failed: .../casadi/interfaces/sundials/idas_interface.cpp:849: Calculating Jacobian failed\n",
      "At t = 869.788 and h = 1.13251e-06, the corrector convergence failed repeatedly or with |h| = hmin.\n",
      "psetup failed: .../casadi/interfaces/sundials/idas_interface.cpp:849: Calculating Jacobian failed\n",
      "psetup failed: .../casadi/interfaces/sundials/idas_interface.cpp:849: Calculating Jacobian failed\n",
      "psetup failed: .../casadi/interfaces/sundials/idas_interface.cpp:849: Calculating Jacobian failed\n",
      "psetup failed: .../casadi/interfaces/sundials/idas_interface.cpp:849: Calculating Jacobian failed\n",
      "psetup failed: .../casadi/interfaces/sundials/idas_interface.cpp:849: Calculating Jacobian failed\n",
      "psetup failed: .../casadi/interfaces/sundials/idas_interface.cpp:849: Calculating Jacobian failed\n",
      "psetup failed: .../casadi/interfaces/sundials/idas_interface.cpp:849: Calculating Jacobian failed\n",
      "psetup failed: .../casadi/interfaces/sundials/idas_interface.cpp:849: Calculating Jacobian failed\n",
      "psetup failed: .../casadi/interfaces/sundials/idas_interface.cpp:849: Calculating Jacobian failed\n",
      "psetup failed: .../casadi/interfaces/sundials/idas_interface.cpp:849: Calculating Jacobian failed\n",
      "psetup failed: .../casadi/interfaces/sundials/idas_interface.cpp:849: Calculating Jacobian failed\n",
      "psetup failed: .../casadi/interfaces/sundials/idas_interface.cpp:849: Calculating Jacobian failed\n",
      "psetup failed: .../casadi/interfaces/sundials/idas_interface.cpp:849: Calculating Jacobian failed\n",
      "At t = 868.116 and h = 3.31999e-06, the corrector convergence failed repeatedly or with |h| = hmin.\n",
      "psetup failed: .../casadi/interfaces/sundials/idas_interface.cpp:849: Calculating Jacobian failed\n",
      "psetup failed: .../casadi/interfaces/sundials/idas_interface.cpp:849: Calculating Jacobian failed\n",
      "psetup failed: .../casadi/interfaces/sundials/idas_interface.cpp:849: Calculating Jacobian failed\n",
      "psetup failed: .../casadi/interfaces/sundials/idas_interface.cpp:849: Calculating Jacobian failed\n",
      "psetup failed: .../casadi/interfaces/sundials/idas_interface.cpp:849: Calculating Jacobian failed\n",
      "psetup failed: .../casadi/interfaces/sundials/idas_interface.cpp:849: Calculating Jacobian failed\n",
      "psetup failed: .../casadi/interfaces/sundials/idas_interface.cpp:849: Calculating Jacobian failed\n",
      "psetup failed: .../casadi/interfaces/sundials/idas_interface.cpp:849: Calculating Jacobian failed\n",
      "psetup failed: .../casadi/interfaces/sundials/idas_interface.cpp:849: Calculating Jacobian failed\n",
      "psetup failed: .../casadi/interfaces/sundials/idas_interface.cpp:849: Calculating Jacobian failed\n",
      "psetup failed: .../casadi/interfaces/sundials/idas_interface.cpp:849: Calculating Jacobian failed\n",
      "psetup failed: .../casadi/interfaces/sundials/idas_interface.cpp:849: Calculating Jacobian failed\n",
      "psetup failed: .../casadi/interfaces/sundials/idas_interface.cpp:849: Calculating Jacobian failed\n",
      "At t = 864.907 and h = 1.65999e-06, the corrector convergence failed repeatedly or with |h| = hmin.\n"
     ]
    },
    {
     "data": {
      "text/plain": [
       "<pybamm.solvers.solution.Solution at 0x1352ed880>"
      ]
     },
     "execution_count": 22,
     "metadata": {},
     "output_type": "execute_result"
    }
   ],
   "source": [
    "cap = 0.25\n",
    "time_in_hours = cap/abs(current)\n",
    "time_in_seconds = time_in_hours*3600\n",
    "sim.solve([0,time_in_seconds])\n",
    "\n",
    "\n"
   ]
  },
  {
   "cell_type": "code",
   "execution_count": 23,
   "metadata": {},
   "outputs": [
    {
     "data": {
      "image/png": "[encoded data removed]",
      "text/plain": [
       "<Figure size 432x288 with 1 Axes>"
      ]
     },
     "metadata": {
      "needs_background": "light"
     },
     "output_type": "display_data"
    }
   ],
   "source": [
    "capacity = 0.0211*sim.solution.t/3600\n",
    "V = sim.solution[\"Terminal voltage [V]\"].entries\n",
    "plt.plot(capacity, V)\n",
    "\n",
    "plt.legend([\"sim 0.1C\", \"exp 0.1C\" ])\n",
    "plt.xlabel('Capacity [Ah]')\n",
    "plt.ylabel('Voltage [V]');\n"
   ]
  },
  {
   "cell_type": "markdown",
   "metadata": {},
   "source": [
    "# experimental framework"
   ]
  },
  {
   "cell_type": "code",
   "execution_count": 24,
   "metadata": {},
   "outputs": [],
   "source": [
    "model = models.ZeroD_Cornish_type()\n",
    "\n",
    "current = -0.0211\n",
    "param = model.default_parameter_values\n",
    "param.update(\n",
    "    {\n",
    "        \"Initial Condition for Terminal Voltage [V]\": V_initial_cha,\n",
    "        \"Initial Condition for S8 ion [g]\" : S8_initial_cha,\n",
    "        \"Initial Condition for S4 ion [g]\" : S4_initial_cha,\n",
    "        \"Initial Condition for S2 ion [g]\" : S2_initial_cha,\n",
    "        \"Initial Condition for S ion [g]\" : S1_initial_cha,\n",
    "        \"Initial Condition for Precipitated Sulfur [g]\" : Sp_initial_cha,\n",
    "        \"Lower voltage cut-off [V]\" : 1.2,\n",
    "        \"Upper voltage cut-off [V]\" : 2.5,\n",
    "        \"Standard Potential L [V]\" : EL0,\n",
    "        \"Standard Potential M [V]\" : EM0,\n",
    "        \"Standard Potential H [V]\" : EH0,\n",
    "        \"Exchange current density L [A.m-2]\": il0,\n",
    "        \"Exchange current density M [A.m-2]\": im0,\n",
    "        \"Exchange current density H [A.m-2]\": ih0,\n",
    "        \"Active reaction area per cell [m2]\":ar,\n",
    "        \"S saturation mass [g]\": S_star,#*.0145,\n",
    "        'gamma': 0,#10e1,#10,#10e40,#10,\n",
    "        'kappa': 0,#10e10,#10e28,#10e80,\n",
    "        'Shuttle rate coefficient during charge [s-1]': .001,\n",
    "        'Shuttle rate coefficient during discharge [s-1]': 0,\n",
    "        'Precipitation rate [s-1]': kp\n",
    "        \n",
    "        }\n",
    ")\n",
    "\n",
    "experiment = pybamm.Experiment(['Charge at 0.0211 A for 11.85 hours'])\n",
    "\n",
    "sim = pybamm.Simulation(\n",
    "    model=model,\n",
    "    experiment=experiment,\n",
    "    parameter_values = param,\n",
    "    solver=pybamm.CasadiSolver(\n",
    "        atol=1e-6,\n",
    "        rtol=1e-6,\n",
    "        #dt_max = .01,\n",
    "        #extra_options_setup={\"max_step_size\": 0.1}, \n",
    "        max_step_decrease_count = 15,\n",
    "    ),\n",
    ")"
   ]
  },
  {
   "cell_type": "code",
   "execution_count": 25,
   "metadata": {},
   "outputs": [
    {
     "name": "stderr",
     "output_type": "stream",
     "text": [
      "psetup failed: .../casadi/interfaces/sundials/idas_interface.cpp:849: Calculating Jacobian failed\n"
     ]
    },
    {
     "data": {
      "text/plain": [
       "<pybamm.solvers.solution.Solution at 0x134b148e0>"
      ]
     },
     "execution_count": 25,
     "metadata": {},
     "output_type": "execute_result"
    }
   ],
   "source": [
    "sim.solve()"
   ]
  },
  {
   "cell_type": "code",
   "execution_count": 26,
   "metadata": {},
   "outputs": [
    {
     "data": {
      "image/png": "[encoded data removed]",
      "text/plain": [
       "<Figure size 432x288 with 1 Axes>"
      ]
     },
     "metadata": {
      "needs_background": "light"
     },
     "output_type": "display_data"
    }
   ],
   "source": [
    "capacity = 0.0211*sim.solution.t/3600\n",
    "V = sim.solution[\"Terminal voltage [V]\"].entries\n",
    "plt.plot(capacity, V)\n",
    "\n",
    "plt.legend([\"sim 0.1C\", \"exp 0.1C\" ])\n",
    "plt.xlabel('Capacity [Ah]')\n",
    "plt.ylabel('Voltage [V]');"
   ]
  },
  {
   "cell_type": "code",
   "execution_count": 44,
   "metadata": {},
   "outputs": [
    {
     "name": "stderr",
     "output_type": "stream",
     "text": [
      "The linesearch algorithm failed with too small a step.\n",
      "The linesearch algorithm failed with too small a step.\n",
      "The linesearch algorithm failed with too small a step.\n",
      "Newton/Linesearch algorithm failed to converge.\n",
      "Newton/Linesearch algorithm failed to converge.\n",
      "psetup failed: .../casadi/interfaces/sundials/idas_interface.cpp:849: Calculating Jacobian failed\n",
      "psetup failed: .../casadi/interfaces/sundials/idas_interface.cpp:849: Calculating Jacobian failed\n",
      "psetup failed: .../casadi/interfaces/sundials/idas_interface.cpp:849: Calculating Jacobian failed\n",
      "psetup failed: .../casadi/interfaces/sundials/idas_interface.cpp:849: Calculating Jacobian failed\n",
      "psetup failed: .../casadi/interfaces/sundials/idas_interface.cpp:849: Calculating Jacobian failed\n",
      "psetup failed: .../casadi/interfaces/sundials/idas_interface.cpp:849: Calculating Jacobian failed\n",
      "psetup failed: .../casadi/interfaces/sundials/idas_interface.cpp:849: Calculating Jacobian failed\n",
      "psetup failed: .../casadi/interfaces/sundials/idas_interface.cpp:849: Calculating Jacobian failed\n",
      "psetup failed: .../casadi/interfaces/sundials/idas_interface.cpp:849: Calculating Jacobian failed\n",
      "psetup failed: .../casadi/interfaces/sundials/idas_interface.cpp:849: Calculating Jacobian failed\n",
      "psetup failed: .../casadi/interfaces/sundials/idas_interface.cpp:849: Calculating Jacobian failed\n",
      "psetup failed: .../casadi/interfaces/sundials/idas_interface.cpp:849: Calculating Jacobian failed\n",
      "psetup failed: .../casadi/interfaces/sundials/idas_interface.cpp:849: Calculating Jacobian failed\n",
      "psetup failed: .../casadi/interfaces/sundials/idas_interface.cpp:849: Calculating Jacobian failed\n",
      "psetup failed: .../casadi/interfaces/sundials/idas_interface.cpp:849: Calculating Jacobian failed\n",
      "psetup failed: .../casadi/interfaces/sundials/idas_interface.cpp:849: Calculating Jacobian failed\n",
      "psetup failed: .../casadi/interfaces/sundials/idas_interface.cpp:849: Calculating Jacobian failed\n",
      "psetup failed: .../casadi/interfaces/sundials/idas_interface.cpp:849: Calculating Jacobian failed\n",
      "psetup failed: .../casadi/interfaces/sundials/idas_interface.cpp:849: Calculating Jacobian failed\n",
      "psetup failed: .../casadi/interfaces/sundials/idas_interface.cpp:849: Calculating Jacobian failed\n",
      "psetup failed: .../casadi/interfaces/sundials/idas_interface.cpp:849: Calculating Jacobian failed\n",
      "psetup failed: .../casadi/interfaces/sundials/idas_interface.cpp:849: Calculating Jacobian failed\n",
      "At t = 7156.98 and h = 2.38419e-08, the corrector convergence failed repeatedly or with |h| = hmin.\n",
      "psetup failed: .../casadi/interfaces/sundials/idas_interface.cpp:849: Calculating Jacobian failed\n",
      "psetup failed: .../casadi/interfaces/sundials/idas_interface.cpp:849: Calculating Jacobian failed\n",
      "psetup failed: .../casadi/interfaces/sundials/idas_interface.cpp:849: Calculating Jacobian failed\n",
      "psetup failed: .../casadi/interfaces/sundials/idas_interface.cpp:849: Calculating Jacobian failed\n",
      "psetup failed: .../casadi/interfaces/sundials/idas_interface.cpp:849: Calculating Jacobian failed\n",
      "psetup failed: .../casadi/interfaces/sundials/idas_interface.cpp:849: Calculating Jacobian failed\n",
      "psetup failed: .../casadi/interfaces/sundials/idas_interface.cpp:849: Calculating Jacobian failed\n",
      "psetup failed: .../casadi/interfaces/sundials/idas_interface.cpp:849: Calculating Jacobian failed\n",
      "psetup failed: .../casadi/interfaces/sundials/idas_interface.cpp:849: Calculating Jacobian failed\n",
      "psetup failed: .../casadi/interfaces/sundials/idas_interface.cpp:849: Calculating Jacobian failed\n",
      "psetup failed: .../casadi/interfaces/sundials/idas_interface.cpp:849: Calculating Jacobian failed\n",
      "psetup failed: .../casadi/interfaces/sundials/idas_interface.cpp:849: Calculating Jacobian failed\n",
      "psetup failed: .../casadi/interfaces/sundials/idas_interface.cpp:849: Calculating Jacobian failed\n",
      "psetup failed: .../casadi/interfaces/sundials/idas_interface.cpp:849: Calculating Jacobian failed\n",
      "psetup failed: .../casadi/interfaces/sundials/idas_interface.cpp:849: Calculating Jacobian failed\n",
      "psetup failed: .../casadi/interfaces/sundials/idas_interface.cpp:849: Calculating Jacobian failed\n",
      "psetup failed: .../casadi/interfaces/sundials/idas_interface.cpp:849: Calculating Jacobian failed\n",
      "psetup failed: .../casadi/interfaces/sundials/idas_interface.cpp:849: Calculating Jacobian failed\n",
      "psetup failed: .../casadi/interfaces/sundials/idas_interface.cpp:849: Calculating Jacobian failed\n",
      "psetup failed: .../casadi/interfaces/sundials/idas_interface.cpp:849: Calculating Jacobian failed\n",
      "psetup failed: .../casadi/interfaces/sundials/idas_interface.cpp:849: Calculating Jacobian failed\n",
      "At t = 7156.61 and h = 9.53674e-08, the corrector convergence failed repeatedly or with |h| = hmin.\n",
      "psetup failed: .../casadi/interfaces/sundials/idas_interface.cpp:849: Calculating Jacobian failed\n",
      "psetup failed: .../casadi/interfaces/sundials/idas_interface.cpp:849: Calculating Jacobian failed\n",
      "psetup failed: .../casadi/interfaces/sundials/idas_interface.cpp:849: Calculating Jacobian failed\n",
      "psetup failed: .../casadi/interfaces/sundials/idas_interface.cpp:849: Calculating Jacobian failed\n",
      "psetup failed: .../casadi/interfaces/sundials/idas_interface.cpp:849: Calculating Jacobian failed\n",
      "psetup failed: .../casadi/interfaces/sundials/idas_interface.cpp:849: Calculating Jacobian failed\n",
      "psetup failed: .../casadi/interfaces/sundials/idas_interface.cpp:849: Calculating Jacobian failed\n",
      "psetup failed: .../casadi/interfaces/sundials/idas_interface.cpp:849: Calculating Jacobian failed\n",
      "psetup failed: .../casadi/interfaces/sundials/idas_interface.cpp:849: Calculating Jacobian failed\n",
      "psetup failed: .../casadi/interfaces/sundials/idas_interface.cpp:849: Calculating Jacobian failed\n",
      "psetup failed: .../casadi/interfaces/sundials/idas_interface.cpp:849: Calculating Jacobian failed\n",
      "psetup failed: .../casadi/interfaces/sundials/idas_interface.cpp:849: Calculating Jacobian failed\n",
      "psetup failed: .../casadi/interfaces/sundials/idas_interface.cpp:849: Calculating Jacobian failed\n",
      "psetup failed: .../casadi/interfaces/sundials/idas_interface.cpp:849: Calculating Jacobian failed\n",
      "psetup failed: .../casadi/interfaces/sundials/idas_interface.cpp:849: Calculating Jacobian failed\n",
      "psetup failed: .../casadi/interfaces/sundials/idas_interface.cpp:849: Calculating Jacobian failed\n",
      "psetup failed: .../casadi/interfaces/sundials/idas_interface.cpp:849: Calculating Jacobian failed\n",
      "At t = 7156.88 and h = 9.53674e-08, the corrector convergence failed repeatedly or with |h| = hmin.\n",
      "Newton/Linesearch algorithm failed to converge.\n",
      "Newton/Linesearch algorithm failed to converge.\n",
      "Newton/Linesearch algorithm failed to converge.\n",
      "Newton/Linesearch algorithm failed to converge.\n",
      "Newton/Linesearch algorithm failed to converge.\n",
      "Newton/Linesearch algorithm failed to converge.\n",
      "Newton/Linesearch algorithm failed to converge.\n",
      "Newton/Linesearch algorithm failed to converge.\n",
      "Newton/Linesearch algorithm failed to converge.\n",
      "psetup failed: .../casadi/interfaces/sundials/idas_interface.cpp:849: Calculating Jacobian failed\n",
      "psetup failed: .../casadi/interfaces/sundials/idas_interface.cpp:849: Calculating Jacobian failed\n"
     ]
    },
    {
     "data": {
      "text/plain": [
       "<pybamm.solvers.solution.Solution at 0x12c352b50>"
      ]
     },
     "execution_count": 44,
     "metadata": {},
     "output_type": "execute_result"
    }
   ],
   "source": [
    "model2 = models.ZeroD_Marinescu_type()\n",
    "\n",
    "current2 = 1.7\n",
    "param2 = model2.default_parameter_values\n",
    "param2.update(\n",
    "    {\n",
    "        \"Current function [A]\": current2\n",
    "    }\n",
    ")\n",
    "\n",
    "sim2 = pybamm.Simulation(\n",
    "    model=model2,\n",
    "    #experiment=experiment,\n",
    "    parameter_values = param2,\n",
    "    solver=pybamm.CasadiSolver(\n",
    "        atol=1e-12,\n",
    "        rtol=1e-8,\n",
    "        dt_max = .01,\n",
    "        extra_options_setup={\"max_step_size\": 0.1}, \n",
    "        max_step_decrease_count = 15,\n",
    "    ),\n",
    ")\n",
    "\n",
    "cap = 3.4\n",
    "c_rate = abs(current2)/cap\n",
    "time_in_hours = cap/c_rate\n",
    "time_in_seconds = time_in_hours*3600\n",
    "sim2.solve([0,time_in_seconds])\n"
   ]
  },
  {
   "cell_type": "code",
   "execution_count": 45,
   "metadata": {
    "scrolled": true
   },
   "outputs": [
    {
     "name": "stderr",
     "output_type": "stream",
     "text": [
      "The linesearch algorithm failed with too small a step.\n",
      "The linesearch algorithm failed with too small a step.\n",
      "Newton/Linesearch algorithm failed to converge.\n",
      "Newton/Linesearch algorithm failed to converge.\n",
      "psetup failed: .../casadi/interfaces/sundials/idas_interface.cpp:849: Calculating Jacobian failed\n",
      "psetup failed: .../casadi/interfaces/sundials/idas_interface.cpp:849: Calculating Jacobian failed\n",
      "psetup failed: .../casadi/interfaces/sundials/idas_interface.cpp:849: Calculating Jacobian failed\n",
      "psetup failed: .../casadi/interfaces/sundials/idas_interface.cpp:849: Calculating Jacobian failed\n",
      "psetup failed: .../casadi/interfaces/sundials/idas_interface.cpp:849: Calculating Jacobian failed\n",
      "psetup failed: .../casadi/interfaces/sundials/idas_interface.cpp:849: Calculating Jacobian failed\n",
      "psetup failed: .../casadi/interfaces/sundials/idas_interface.cpp:849: Calculating Jacobian failed\n",
      "psetup failed: .../casadi/interfaces/sundials/idas_interface.cpp:849: Calculating Jacobian failed\n",
      "psetup failed: .../casadi/interfaces/sundials/idas_interface.cpp:849: Calculating Jacobian failed\n",
      "psetup failed: .../casadi/interfaces/sundials/idas_interface.cpp:849: Calculating Jacobian failed\n",
      "psetup failed: .../casadi/interfaces/sundials/idas_interface.cpp:849: Calculating Jacobian failed\n",
      "psetup failed: .../casadi/interfaces/sundials/idas_interface.cpp:849: Calculating Jacobian failed\n",
      "psetup failed: .../casadi/interfaces/sundials/idas_interface.cpp:849: Calculating Jacobian failed\n",
      "psetup failed: .../casadi/interfaces/sundials/idas_interface.cpp:849: Calculating Jacobian failed\n",
      "psetup failed: .../casadi/interfaces/sundials/idas_interface.cpp:849: Calculating Jacobian failed\n",
      "psetup failed: .../casadi/interfaces/sundials/idas_interface.cpp:849: Calculating Jacobian failed\n",
      "psetup failed: .../casadi/interfaces/sundials/idas_interface.cpp:849: Calculating Jacobian failed\n",
      "psetup failed: .../casadi/interfaces/sundials/idas_interface.cpp:849: Calculating Jacobian failed\n",
      "psetup failed: .../casadi/interfaces/sundials/idas_interface.cpp:849: Calculating Jacobian failed\n",
      "psetup failed: .../casadi/interfaces/sundials/idas_interface.cpp:849: Calculating Jacobian failed\n",
      "psetup failed: .../casadi/interfaces/sundials/idas_interface.cpp:849: Calculating Jacobian failed\n",
      "psetup failed: .../casadi/interfaces/sundials/idas_interface.cpp:849: Calculating Jacobian failed\n",
      "psetup failed: .../casadi/interfaces/sundials/idas_interface.cpp:849: Calculating Jacobian failed\n",
      "psetup failed: .../casadi/interfaces/sundials/idas_interface.cpp:849: Calculating Jacobian failed\n",
      "psetup failed: .../casadi/interfaces/sundials/idas_interface.cpp:849: Calculating Jacobian failed\n",
      "At t = 3578.69 and h = 5.61938e-08, the corrector convergence failed repeatedly or with |h| = hmin.\n",
      "psetup failed: .../casadi/interfaces/sundials/idas_interface.cpp:849: Calculating Jacobian failed\n",
      "At t = 3574.98 and h = 5.44556e-13, the error test failed repeatedly or with |h| = hmin.\n",
      "At t = 3574.98 and h = 5.44387e-13, the error test failed repeatedly or with |h| = hmin.\n",
      "At t = 3574.98 and h = 5.44535e-13, the error test failed repeatedly or with |h| = hmin.\n",
      "At t = 3574.98 and h = 5.44604e-13, the error test failed repeatedly or with |h| = hmin.\n",
      "At t = 3574.98 and h = 5.44684e-13, the error test failed repeatedly or with |h| = hmin.\n",
      "At t = 3574.98 and h = 5.4483e-13, the error test failed repeatedly or with |h| = hmin.\n",
      "At t = 3574.98 and h = 5.45118e-13, the error test failed repeatedly or with |h| = hmin.\n"
     ]
    },
    {
     "data": {
      "text/plain": [
       "<pybamm.solvers.solution.Solution at 0x12baa99d0>"
      ]
     },
     "execution_count": 45,
     "metadata": {},
     "output_type": "execute_result"
    }
   ],
   "source": [
    "model3 = models.ZeroD_Marinescu_type()\n",
    "\n",
    "current3 = 2*1.7\n",
    "param3 = model2.default_parameter_values\n",
    "param3.update(\n",
    "    {\n",
    "        \"Current function [A]\": current3\n",
    "    }\n",
    ")\n",
    "\n",
    "sim3 = pybamm.Simulation(\n",
    "    model=model3,\n",
    "    #experiment=experiment,\n",
    "    parameter_values = param3,\n",
    "    solver=pybamm.CasadiSolver(\n",
    "        atol=1e-12,\n",
    "        rtol=1e-8,\n",
    "        dt_max = .01,\n",
    "        extra_options_setup={\"max_step_size\": 0.1}, \n",
    "        max_step_decrease_count = 15,\n",
    "    ),\n",
    ")\n",
    "\n",
    "cap = 3.4\n",
    "c_rate = abs(current3)/cap\n",
    "time_in_hours = cap/c_rate\n",
    "time_in_seconds = time_in_hours*3600\n",
    "sim3.solve([0,time_in_seconds])"
   ]
  },
  {
   "cell_type": "code",
   "execution_count": 47,
   "metadata": {},
   "outputs": [
    {
     "data": {
      "text/plain": [
       "Text(0, 0.5, 'Voltage [V]')"
      ]
     },
     "execution_count": 47,
     "metadata": {},
     "output_type": "execute_result"
    },
    {
     "data": {
      "image/png": "[encoded data removed]",
      "text/plain": [
       "<Figure size 432x288 with 1 Axes>"
      ]
     },
     "metadata": {
      "needs_background": "light"
     },
     "output_type": "display_data"
    }
   ],
   "source": [
    "capacity = abs(current2)*sim2.solution.t/3600\n",
    "V = sim2.solution[\"Terminal voltage [V]\"].entries\n",
    "plt.plot(capacity, V)\n",
    "\n",
    "capacity = abs(current3)*sim3.solution.t/3600\n",
    "V = sim3.solution[\"Terminal voltage [V]\"].entries\n",
    "plt.plot(capacity, V)\n",
    "\n",
    "plt.legend([\"sim 0.5C\", 'sim 2C'])\n",
    "plt.xlabel('Capacity [Ah]')\n",
    "plt.ylabel('Voltage [V]')\n",
    "\n"
   ]
  },
  {
   "cell_type": "code",
   "execution_count": 53,
   "metadata": {
    "scrolled": true
   },
   "outputs": [
    {
     "name": "stderr",
     "output_type": "stream",
     "text": [
      "The linesearch algorithm failed with too small a step.\n",
      "The linesearch algorithm failed with too small a step.\n",
      "The linesearch algorithm failed with too small a step.\n",
      "Newton/Linesearch algorithm failed to converge.\n",
      "Newton/Linesearch algorithm failed to converge.\n",
      "psetup failed: .../casadi/interfaces/sundials/idas_interface.cpp:849: Calculating Jacobian failed\n",
      "psetup failed: .../casadi/interfaces/sundials/idas_interface.cpp:849: Calculating Jacobian failed\n",
      "psetup failed: .../casadi/interfaces/sundials/idas_interface.cpp:849: Calculating Jacobian failed\n",
      "psetup failed: .../casadi/interfaces/sundials/idas_interface.cpp:849: Calculating Jacobian failed\n",
      "psetup failed: .../casadi/interfaces/sundials/idas_interface.cpp:849: Calculating Jacobian failed\n",
      "psetup failed: .../casadi/interfaces/sundials/idas_interface.cpp:849: Calculating Jacobian failed\n",
      "psetup failed: .../casadi/interfaces/sundials/idas_interface.cpp:849: Calculating Jacobian failed\n",
      "psetup failed: .../casadi/interfaces/sundials/idas_interface.cpp:849: Calculating Jacobian failed\n",
      "psetup failed: .../casadi/interfaces/sundials/idas_interface.cpp:849: Calculating Jacobian failed\n",
      "psetup failed: .../casadi/interfaces/sundials/idas_interface.cpp:849: Calculating Jacobian failed\n",
      "psetup failed: .../casadi/interfaces/sundials/idas_interface.cpp:849: Calculating Jacobian failed\n",
      "psetup failed: .../casadi/interfaces/sundials/idas_interface.cpp:849: Calculating Jacobian failed\n",
      "psetup failed: .../casadi/interfaces/sundials/idas_interface.cpp:849: Calculating Jacobian failed\n",
      "psetup failed: .../casadi/interfaces/sundials/idas_interface.cpp:849: Calculating Jacobian failed\n",
      "psetup failed: .../casadi/interfaces/sundials/idas_interface.cpp:849: Calculating Jacobian failed\n",
      "psetup failed: .../casadi/interfaces/sundials/idas_interface.cpp:849: Calculating Jacobian failed\n",
      "psetup failed: .../casadi/interfaces/sundials/idas_interface.cpp:849: Calculating Jacobian failed\n",
      "psetup failed: .../casadi/interfaces/sundials/idas_interface.cpp:849: Calculating Jacobian failed\n",
      "psetup failed: .../casadi/interfaces/sundials/idas_interface.cpp:849: Calculating Jacobian failed\n",
      "psetup failed: .../casadi/interfaces/sundials/idas_interface.cpp:849: Calculating Jacobian failed\n",
      "psetup failed: .../casadi/interfaces/sundials/idas_interface.cpp:849: Calculating Jacobian failed\n",
      "psetup failed: .../casadi/interfaces/sundials/idas_interface.cpp:849: Calculating Jacobian failed\n",
      "At t = 7156.98 and h = 2.38419e-08, the corrector convergence failed repeatedly or with |h| = hmin.\n",
      "psetup failed: .../casadi/interfaces/sundials/idas_interface.cpp:849: Calculating Jacobian failed\n",
      "psetup failed: .../casadi/interfaces/sundials/idas_interface.cpp:849: Calculating Jacobian failed\n",
      "psetup failed: .../casadi/interfaces/sundials/idas_interface.cpp:849: Calculating Jacobian failed\n",
      "psetup failed: .../casadi/interfaces/sundials/idas_interface.cpp:849: Calculating Jacobian failed\n",
      "psetup failed: .../casadi/interfaces/sundials/idas_interface.cpp:849: Calculating Jacobian failed\n",
      "psetup failed: .../casadi/interfaces/sundials/idas_interface.cpp:849: Calculating Jacobian failed\n",
      "psetup failed: .../casadi/interfaces/sundials/idas_interface.cpp:849: Calculating Jacobian failed\n",
      "psetup failed: .../casadi/interfaces/sundials/idas_interface.cpp:849: Calculating Jacobian failed\n",
      "psetup failed: .../casadi/interfaces/sundials/idas_interface.cpp:849: Calculating Jacobian failed\n",
      "psetup failed: .../casadi/interfaces/sundials/idas_interface.cpp:849: Calculating Jacobian failed\n",
      "psetup failed: .../casadi/interfaces/sundials/idas_interface.cpp:849: Calculating Jacobian failed\n",
      "psetup failed: .../casadi/interfaces/sundials/idas_interface.cpp:849: Calculating Jacobian failed\n",
      "psetup failed: .../casadi/interfaces/sundials/idas_interface.cpp:849: Calculating Jacobian failed\n",
      "psetup failed: .../casadi/interfaces/sundials/idas_interface.cpp:849: Calculating Jacobian failed\n",
      "psetup failed: .../casadi/interfaces/sundials/idas_interface.cpp:849: Calculating Jacobian failed\n",
      "psetup failed: .../casadi/interfaces/sundials/idas_interface.cpp:849: Calculating Jacobian failed\n",
      "psetup failed: .../casadi/interfaces/sundials/idas_interface.cpp:849: Calculating Jacobian failed\n",
      "psetup failed: .../casadi/interfaces/sundials/idas_interface.cpp:849: Calculating Jacobian failed\n",
      "psetup failed: .../casadi/interfaces/sundials/idas_interface.cpp:849: Calculating Jacobian failed\n",
      "psetup failed: .../casadi/interfaces/sundials/idas_interface.cpp:849: Calculating Jacobian failed\n",
      "psetup failed: .../casadi/interfaces/sundials/idas_interface.cpp:849: Calculating Jacobian failed\n",
      "At t = 7156.61 and h = 9.53674e-08, the corrector convergence failed repeatedly or with |h| = hmin.\n",
      "psetup failed: .../casadi/interfaces/sundials/idas_interface.cpp:849: Calculating Jacobian failed\n",
      "psetup failed: .../casadi/interfaces/sundials/idas_interface.cpp:849: Calculating Jacobian failed\n",
      "psetup failed: .../casadi/interfaces/sundials/idas_interface.cpp:849: Calculating Jacobian failed\n",
      "psetup failed: .../casadi/interfaces/sundials/idas_interface.cpp:849: Calculating Jacobian failed\n",
      "psetup failed: .../casadi/interfaces/sundials/idas_interface.cpp:849: Calculating Jacobian failed\n",
      "psetup failed: .../casadi/interfaces/sundials/idas_interface.cpp:849: Calculating Jacobian failed\n",
      "psetup failed: .../casadi/interfaces/sundials/idas_interface.cpp:849: Calculating Jacobian failed\n",
      "psetup failed: .../casadi/interfaces/sundials/idas_interface.cpp:849: Calculating Jacobian failed\n",
      "psetup failed: .../casadi/interfaces/sundials/idas_interface.cpp:849: Calculating Jacobian failed\n",
      "psetup failed: .../casadi/interfaces/sundials/idas_interface.cpp:849: Calculating Jacobian failed\n",
      "psetup failed: .../casadi/interfaces/sundials/idas_interface.cpp:849: Calculating Jacobian failed\n",
      "psetup failed: .../casadi/interfaces/sundials/idas_interface.cpp:849: Calculating Jacobian failed\n",
      "psetup failed: .../casadi/interfaces/sundials/idas_interface.cpp:849: Calculating Jacobian failed\n",
      "psetup failed: .../casadi/interfaces/sundials/idas_interface.cpp:849: Calculating Jacobian failed\n",
      "psetup failed: .../casadi/interfaces/sundials/idas_interface.cpp:849: Calculating Jacobian failed\n",
      "psetup failed: .../casadi/interfaces/sundials/idas_interface.cpp:849: Calculating Jacobian failed\n",
      "psetup failed: .../casadi/interfaces/sundials/idas_interface.cpp:849: Calculating Jacobian failed\n",
      "At t = 7156.88 and h = 9.53674e-08, the corrector convergence failed repeatedly or with |h| = hmin.\n",
      "Newton/Linesearch algorithm failed to converge.\n",
      "Newton/Linesearch algorithm failed to converge.\n",
      "Newton/Linesearch algorithm failed to converge.\n",
      "Newton/Linesearch algorithm failed to converge.\n",
      "Newton/Linesearch algorithm failed to converge.\n",
      "Newton/Linesearch algorithm failed to converge.\n",
      "Newton/Linesearch algorithm failed to converge.\n",
      "Newton/Linesearch algorithm failed to converge.\n",
      "Newton/Linesearch algorithm failed to converge.\n",
      "psetup failed: .../casadi/interfaces/sundials/idas_interface.cpp:849: Calculating Jacobian failed\n",
      "psetup failed: .../casadi/interfaces/sundials/idas_interface.cpp:849: Calculating Jacobian failed\n"
     ]
    },
    {
     "data": {
      "text/plain": [
       "<pybamm.solvers.solution.Solution at 0x12cac9220>"
      ]
     },
     "execution_count": 53,
     "metadata": {},
     "output_type": "execute_result"
    }
   ],
   "source": [
    "\n",
    "model4 = models.ZeroD_Marinescu_type()\n",
    "\n",
    "model4.options['thermal'] = 'Hua2019'\n",
    "\n",
    "current4 = 1.7\n",
    "param4 = model4.default_parameter_values\n",
    "param4.update(\n",
    "    {\n",
    "        \"Current function [A]\": current2\n",
    "    }\n",
    ")\n",
    "\n",
    "sim4 = pybamm.Simulation(\n",
    "    model=model4,\n",
    "    #experiment=experiment,\n",
    "    parameter_values = param4,\n",
    "    solver=pybamm.CasadiSolver(\n",
    "        atol=1e-12,\n",
    "        rtol=1e-8,\n",
    "        dt_max = .01,\n",
    "        extra_options_setup={\"max_step_size\": 0.1}, \n",
    "        max_step_decrease_count = 15,\n",
    "    ),\n",
    ")\n",
    "\n",
    "cap = 3.4\n",
    "c_rate = abs(current2)/cap\n",
    "time_in_hours = cap/c_rate\n",
    "time_in_seconds = time_in_hours*3600\n",
    "sim4.solve([0,time_in_seconds])\n",
    "\n",
    "\n",
    "\n",
    "\n"
   ]
  },
  {
   "cell_type": "code",
   "execution_count": 55,
   "metadata": {},
   "outputs": [
    {
     "data": {
      "text/plain": [
       "[<matplotlib.lines.Line2D at 0x12d64a430>]"
      ]
     },
     "execution_count": 55,
     "metadata": {},
     "output_type": "execute_result"
    },
    {
     "data": {
      "image/png": "[encoded data removed]",
      "text/plain": [
       "<Figure size 432x288 with 1 Axes>"
      ]
     },
     "metadata": {
      "needs_background": "light"
     },
     "output_type": "display_data"
    }
   ],
   "source": [
    "capacity = abs(current2)*sim4.solution.t/3600\n",
    "V = sim4.solution[\"Terminal voltage [V]\"].entries\n",
    "plt.plot(capacity, V)"
   ]
  },
  {
   "cell_type": "code",
   "execution_count": null,
   "metadata": {},
   "outputs": [],
   "source": []
  }
 ],
 "metadata": {
  "kernelspec": {
   "display_name": "published_pybamm",
   "language": "python",
   "name": "published_pybamm"
  },
  "language_info": {
   "codemirror_mode": {
    "name": "ipython",
    "version": 3
   },
   "file_extension": ".py",
   "mimetype": "text/x-python",
   "name": "python",
   "nbconvert_exporter": "python",
   "pygments_lexer": "ipython3",
   "version": "3.9.6"
  }
 },
 "nbformat": 4,
 "nbformat_minor": 4
}
