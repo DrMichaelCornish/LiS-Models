{
 "cells": [
  {
   "cell_type": "code",
   "execution_count": 1,
   "id": "8c7b38ca",
   "metadata": {},
   "outputs": [],
   "source": [
    "import os\n",
    "os.chdir('../') # this insures we can use the models folder as a python module \n",
    "# Any figures saved or data pickled in the current working directly will be saved up one folder from here.\n",
    "import pybamm\n",
    "import models\n",
    "import numpy as np\n",
    "import matplotlib.pyplot as plt"
   ]
  },
  {
   "cell_type": "markdown",
   "id": "b5de6539",
   "metadata": {},
   "source": [
    "# First we simulate the Marinescu et al. (2016) model"
   ]
  },
  {
   "cell_type": "code",
   "execution_count": 2,
   "id": "7ca1a03b",
   "metadata": {},
   "outputs": [],
   "source": [
    "model = models.ZeroD_Marinescu_type()"
   ]
  },
  {
   "cell_type": "code",
   "execution_count": 3,
   "id": "d7c4d7ef",
   "metadata": {},
   "outputs": [],
   "source": [
    "experiment = pybamm.Experiment(['Discharge at 1.7 A for 1.95 hours'])\n",
    "\n",
    "sim = pybamm.Simulation(\n",
    "    model=model,\n",
    "    experiment=experiment,\n",
    "    solver=pybamm.CasadiSolver(\n",
    "        atol=1e-6,\n",
    "        rtol=1e-6,\n",
    "        #dt_max = .01,\n",
    "        #extra_options_setup={\"max_step_size\": 0.1}, \n",
    "        max_step_decrease_count = 15,\n",
    "    ),\n",
    ")"
   ]
  },
  {
   "cell_type": "code",
   "execution_count": 4,
   "id": "272859cd",
   "metadata": {},
   "outputs": [
    {
     "name": "stderr",
     "output_type": "stream",
     "text": [
      "The linesearch algorithm failed with too small a step.\n",
      "The linesearch algorithm failed with too small a step.\n"
     ]
    },
    {
     "data": {
      "text/plain": [
       "<pybamm.solvers.solution.Solution at 0x10a18b1c0>"
      ]
     },
     "execution_count": 4,
     "metadata": {},
     "output_type": "execute_result"
    }
   ],
   "source": [
    "sim.solve()"
   ]
  },
  {
   "cell_type": "code",
   "execution_count": 5,
   "id": "93f59033",
   "metadata": {},
   "outputs": [
    {
     "data": {
      "image/png": "[encoded data removed]",
      "text/plain": [
       "<Figure size 432x288 with 1 Axes>"
      ]
     },
     "metadata": {
      "needs_background": "light"
     },
     "output_type": "display_data"
    }
   ],
   "source": [
    "capacity = sim.solution['Capacity [Ah]'].entries\n",
    "V = sim.solution[\"Terminal voltage [V]\"].entries\n",
    "plt.plot(capacity, V)\n",
    "\n",
    "plt.legend([\"0.1C\",])\n",
    "plt.xlabel('Capacity [Ah]')\n",
    "plt.ylabel('Voltage [V]');"
   ]
  },
  {
   "cell_type": "code",
   "execution_count": null,
   "id": "7a81907f",
   "metadata": {},
   "outputs": [],
   "source": []
  },
  {
   "cell_type": "code",
   "execution_count": null,
   "id": "47b276e3",
   "metadata": {},
   "outputs": [],
   "source": []
  }
 ],
 "metadata": {
  "kernelspec": {
   "display_name": "Python 3 (ipykernel)",
   "language": "python",
   "name": "python3"
  },
  "language_info": {
   "codemirror_mode": {
    "name": "ipython",
    "version": 3
   },
   "file_extension": ".py",
   "mimetype": "text/x-python",
   "name": "python",
   "nbconvert_exporter": "python",
   "pygments_lexer": "ipython3",
   "version": "3.9.6"
  }
 },
 "nbformat": 4,
 "nbformat_minor": 5
}
